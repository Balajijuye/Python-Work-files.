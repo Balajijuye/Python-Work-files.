{
 "cells": [
  {
   "cell_type": "code",
   "execution_count": null,
   "id": "e8633c1c-5df8-493d-9db6-66f7f2a48517",
   "metadata": {},
   "outputs": [],
   "source": [
    "#Python Basics Variable\n",
    "\n",
    "1. Declare two variables, `x` and `y`, and assign them integer values.\n",
    "Swap the values of these variables without using any temporary\n",
    "variable.\n"
   ]
  },
  {
   "cell_type": "code",
   "execution_count": 2,
   "id": "1536b7cd-149d-4baf-8a6f-b92b4d782d0e",
   "metadata": {},
   "outputs": [
    {
     "name": "stdout",
     "output_type": "stream",
     "text": [
      "6 4\n"
     ]
    }
   ],
   "source": [
    "#Ans Quest 1\n",
    "x=4\n",
    "y=6\n",
    "x,y=y,x\n",
    "print(x,y)"
   ]
  },
  {
   "cell_type": "code",
   "execution_count": null,
   "id": "faa7e7bf-c9e8-4599-b8b3-5cd54bc487e0",
   "metadata": {},
   "outputs": [],
   "source": [
    "2. Create a program that calculates the area of a rectangle. Take the\n",
    "length and width as inputs from the user and store them in variables.\n",
    "Calculate and display the area."
   ]
  },
  {
   "cell_type": "code",
   "execution_count": 7,
   "id": "ab3b2dac-9f83-4845-9bbd-f63694df4afa",
   "metadata": {},
   "outputs": [
    {
     "name": "stdin",
     "output_type": "stream",
     "text": [
      "Enter the length of rectangle 5\n",
      "Enter the width of rectangle 8\n"
     ]
    },
    {
     "name": "stdout",
     "output_type": "stream",
     "text": [
      "Area of rectangle is : 40\n"
     ]
    }
   ],
   "source": [
    "#Ans Quest 2 :\n",
    "L = int(input(\"Enter the length of rectangle\" ))\n",
    "W = int(input(\"Enter the width of rectangle\" ))   \n",
    "Area = L*W\n",
    "print(\"Area of rectangle is :\",Area)"
   ]
  },
  {
   "cell_type": "code",
   "execution_count": null,
   "id": "34e5f197-5edb-4b87-88f2-cf58a313b47e",
   "metadata": {},
   "outputs": [],
   "source": [
    "3. Write a Python program that converts temperature from Celsius to\n",
    "Fahrenheit. Take the temperature in Celsius as input, store it in a\n",
    "variable, convert it to Fahrenheit, and display the result.\n"
   ]
  },
  {
   "cell_type": "code",
   "execution_count": 8,
   "id": "57b7d5b2-402b-42b8-aa12-fe6b835479d2",
   "metadata": {},
   "outputs": [
    {
     "name": "stdin",
     "output_type": "stream",
     "text": [
      "Enter the temp in Celsius 10\n"
     ]
    },
    {
     "name": "stdout",
     "output_type": "stream",
     "text": [
      "Temp in Fahrenheit is : 50.0\n"
     ]
    }
   ],
   "source": [
    "#Ans Quest 3 :\n",
    "C = float(input(\"Enter the temp in Celsius\"))\n",
    "F = C*(1.8)+32\n",
    "print(\"Temp in Fahrenheit is :\", F)"
   ]
  },
  {
   "cell_type": "code",
   "execution_count": null,
   "id": "0e9508e2-8194-4e54-bcdc-6f7262688934",
   "metadata": {},
   "outputs": [],
   "source": [
    "# String Based Questions\n",
    "\n",
    "1. Write a Python program that takes a string as input and prints the\n",
    "length of the string.\n",
    "\n"
   ]
  },
  {
   "cell_type": "code",
   "execution_count": 1,
   "id": "2217a75c-2828-4a3d-9090-ad4360cd2196",
   "metadata": {},
   "outputs": [
    {
     "name": "stdin",
     "output_type": "stream",
     "text": [
      "What is your name : Balaji\n"
     ]
    },
    {
     "name": "stdout",
     "output_type": "stream",
     "text": [
      "Length of string : 6\n"
     ]
    }
   ],
   "source": [
    "#Ans Quest 1 :\n",
    "S = input(\"What is your name :\")\n",
    "print(\"Length of string :\",len(S))"
   ]
  },
  {
   "cell_type": "code",
   "execution_count": null,
   "id": "98e4a731-4349-481b-98eb-bc37c9cd5eea",
   "metadata": {},
   "outputs": [],
   "source": [
    "2. Create a program that takes a sentence from the user and counts the\n",
    "number of vowels (a, e, i, o, u) in the string.\n"
   ]
  },
  {
   "cell_type": "code",
   "execution_count": 22,
   "id": "b71ffb38-e156-4095-a2d8-663a36cebcc3",
   "metadata": {},
   "outputs": [
    {
     "name": "stdin",
     "output_type": "stream",
     "text": [
      "Enter the your sentace:  Hi all I am learning python in PWskills class.\n"
     ]
    },
    {
     "name": "stdout",
     "output_type": "stream",
     "text": [
      "Count of Vowels:  11\n"
     ]
    }
   ],
   "source": [
    "#Ans Quest 2 :\n",
    "S = input(\"Enter the your sentace: \")\n",
    "l=['a','e','i','o','u','A','E','I','U','O']\n",
    "c = 0\n",
    "for i in S:\n",
    "    if i in l:\n",
    "        c +=1\n",
    "print(\"Count of Vowels: \",c)"
   ]
  },
  {
   "cell_type": "code",
   "execution_count": null,
   "id": "a6f370c2-ea4c-434a-a38e-8d007460990d",
   "metadata": {},
   "outputs": [],
   "source": [
    "3. Given a string, reverse the order of characters using string slicing and\n",
    "print the reversed string."
   ]
  },
  {
   "cell_type": "code",
   "execution_count": 5,
   "id": "d62358ca-0174-42ba-96e6-336b5abc114c",
   "metadata": {},
   "outputs": [
    {
     "name": "stdout",
     "output_type": "stream",
     "text": [
      "anhsirkmaR\n"
     ]
    }
   ],
   "source": [
    "#Ans Quest 3 :\n",
    "S = \"Ramkrishna\"\n",
    "print(S[::-1])"
   ]
  },
  {
   "cell_type": "code",
   "execution_count": null,
   "id": "5b074801-514d-4f54-b212-ceb24e9322dc",
   "metadata": {},
   "outputs": [],
   "source": [
    "4. Write a program that takes a string as input and checks if it is a\n",
    "palindrome (reads the same forwards and backwards).\n"
   ]
  },
  {
   "cell_type": "code",
   "execution_count": 31,
   "id": "dac80c47-f7dd-45d8-b0a2-2aeaea552696",
   "metadata": {},
   "outputs": [
    {
     "name": "stdin",
     "output_type": "stream",
     "text": [
      "Enter a string:  Madam\n"
     ]
    },
    {
     "name": "stdout",
     "output_type": "stream",
     "text": [
      "The string is a palindrome.\n"
     ]
    }
   ],
   "source": [
    "#Ans Quest 4 :\n",
    "S = input(\"Enter a string: \").lower()\n",
    "S1=(S[::-1])\n",
    "if S == S1:\n",
    "    print(\"The string is a palindrome.\")\n",
    "else:\n",
    "    print(\"The string is not a palindrome.\")"
   ]
  },
  {
   "cell_type": "code",
   "execution_count": null,
   "id": "956cfd50-db6d-4a91-91fa-7645878b3b80",
   "metadata": {},
   "outputs": [],
   "source": [
    "5. Create a program that takes a string as input and removes all the\n",
    "spaces from it. Print the modified string without spaces."
   ]
  },
  {
   "cell_type": "code",
   "execution_count": 23,
   "id": "8ec8c4c6-6a5e-41c3-b054-926840f99ada",
   "metadata": {},
   "outputs": [
    {
     "name": "stdin",
     "output_type": "stream",
     "text": [
      "Enter a string:  we are doing python programming\n"
     ]
    },
    {
     "name": "stdout",
     "output_type": "stream",
     "text": [
      "Without Spaces string: wearedoingpythonprogramming\n"
     ]
    }
   ],
   "source": [
    "#Ans Quest 5 :\n",
    "S = input (\"Enter a string: \")\n",
    "S1 = \"\"\n",
    "for char in S :\n",
    "    if char != \" \":\n",
    "        S1 += char\n",
    "print(\"Without Spaces string:\",S1)"
   ]
  }
 ],
 "metadata": {
  "kernelspec": {
   "display_name": "Python 3 (ipykernel)",
   "language": "python",
   "name": "python3"
  },
  "language_info": {
   "codemirror_mode": {
    "name": "ipython",
    "version": 3
   },
   "file_extension": ".py",
   "mimetype": "text/x-python",
   "name": "python",
   "nbconvert_exporter": "python",
   "pygments_lexer": "ipython3",
   "version": "3.10.8"
  }
 },
 "nbformat": 4,
 "nbformat_minor": 5
}
