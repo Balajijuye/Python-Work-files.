{
 "cells": [
  {
   "cell_type": "code",
   "execution_count": null,
   "id": "f250bb21-a64e-408c-bb67-64cd29371b96",
   "metadata": {},
   "outputs": [],
   "source": [
    "TOPIC: String Based Assignment Problem"
   ]
  },
  {
   "cell_type": "code",
   "execution_count": 8,
   "id": "17701121-b796-4d1e-84d3-7333730443f8",
   "metadata": {},
   "outputs": [
    {
     "name": "stdout",
     "output_type": "stream",
     "text": [
      "sllikswp\n"
     ]
    }
   ],
   "source": [
    "#1. Write a program to reverse a string.\n",
    "#Ans:\n",
    "\n",
    "S =\"pwskills\"\n",
    "print(S[::-1])"
   ]
  },
  {
   "cell_type": "code",
   "execution_count": 4,
   "id": "0c66b45c-14ba-40b8-9464-822b47a7b0fc",
   "metadata": {},
   "outputs": [
    {
     "name": "stdin",
     "output_type": "stream",
     "text": [
      "Enter the string Balaji\n"
     ]
    },
    {
     "name": "stdout",
     "output_type": "stream",
     "text": [
      "String is not Palindrome\n"
     ]
    }
   ],
   "source": [
    "#2. Check if a string is a palindrome.\n",
    "#Ans:\n",
    "a= input(\"Enter the string\").lower()\n",
    "b=(a[::-1])\n",
    "\n",
    "if (a==b):\n",
    "    print (\"String is Palindrome\")\n",
    "else:\n",
    "    print (\"String is not Palindrome\")"
   ]
  },
  {
   "cell_type": "code",
   "execution_count": 6,
   "id": "a69fcbac-955c-4567-8c5c-ed105be6b7a4",
   "metadata": {},
   "outputs": [
    {
     "name": "stdin",
     "output_type": "stream",
     "text": [
      "Enter the string pwskills\n"
     ]
    },
    {
     "name": "stdout",
     "output_type": "stream",
     "text": [
      "Uppercase string is PWSKILLS\n"
     ]
    }
   ],
   "source": [
    "#3. Convert a string to uppercase.\n",
    "\n",
    "a= input(\"Enter the string\")\n",
    "print(\"Uppercase string is\", a.upper())\n"
   ]
  },
  {
   "cell_type": "code",
   "execution_count": 8,
   "id": "1c2b53b0-8b90-4ead-ba32-ec99feb45c46",
   "metadata": {},
   "outputs": [
    {
     "name": "stdin",
     "output_type": "stream",
     "text": [
      "Enter the string PWSKILLS\n"
     ]
    },
    {
     "name": "stdout",
     "output_type": "stream",
     "text": [
      "lowercase string is pwskills\n"
     ]
    }
   ],
   "source": [
    "# 4. Convert a string to lowercase.\n",
    "# Ans:\n",
    "\n",
    "b= input(\"Enter the string\")\n",
    "print(\"lowercase string is\", b.lower())"
   ]
  },
  {
   "cell_type": "code",
   "execution_count": 13,
   "id": "dccb9d60-054e-47ee-ace9-7726d42b3b5a",
   "metadata": {},
   "outputs": [
    {
     "name": "stdin",
     "output_type": "stream",
     "text": [
      "Enter the string  Rhytm\n"
     ]
    },
    {
     "name": "stdout",
     "output_type": "stream",
     "text": [
      "Count of Vowels:  0\n"
     ]
    }
   ],
   "source": [
    "#5. Count the number of vowels in a string.\n",
    "#Ans :\n",
    "\n",
    "a= input(\"Enter the string \")\n",
    "l=['A','E','I','O','U','a','e','i','o','u']\n",
    "c=0\n",
    "for i in a:\n",
    "    if i in l:\n",
    "        c +=1\n",
    "print(\"Count of Vowels: \",c)"
   ]
  },
  {
   "cell_type": "code",
   "execution_count": 15,
   "id": "05b79c41-1c0f-411a-bd0c-6d427a28e567",
   "metadata": {},
   "outputs": [
    {
     "name": "stdin",
     "output_type": "stream",
     "text": [
      "Enter the string  Rhytam\n"
     ]
    },
    {
     "name": "stdout",
     "output_type": "stream",
     "text": [
      "Count of Consonants:  5\n"
     ]
    }
   ],
   "source": [
    "#6. Count the number of consonants in a string.\n",
    "#Ans:\n",
    "\n",
    "a= input(\"Enter the string \")\n",
    "l=['A','E','I','O','U','a','e','i','o','u']\n",
    "c=0\n",
    "for i in a:\n",
    "    if i not in l:\n",
    "        c +=1\n",
    "print(\"Count of Consonants: \",c)"
   ]
  },
  {
   "cell_type": "code",
   "execution_count": 17,
   "id": "92ecb7ca-5fdc-482f-9fac-504b9e2d02ae",
   "metadata": {},
   "outputs": [
    {
     "name": "stdin",
     "output_type": "stream",
     "text": [
      "Enter the string :      Rama           \n"
     ]
    },
    {
     "name": "stdout",
     "output_type": "stream",
     "text": [
      "Without whitespaces from a string Rama\n"
     ]
    }
   ],
   "source": [
    "#7. Remove all whitespaces from a string.\n",
    "#Ans :\n",
    "\n",
    "a= input(\"Enter the string :\")\n",
    "print(\"Without whitespaces from a string\", a.strip())\n"
   ]
  },
  {
   "cell_type": "code",
   "execution_count": 15,
   "id": "552168e1-3f4f-442e-ac22-1514e65d87c1",
   "metadata": {},
   "outputs": [
    {
     "name": "stdin",
     "output_type": "stream",
     "text": [
      "Enter the string Rohit\n"
     ]
    },
    {
     "name": "stdout",
     "output_type": "stream",
     "text": [
      "length of string 5\n"
     ]
    }
   ],
   "source": [
    "# 8. Find the length of a string without using the `len()` function.\n",
    "#Ans: \n",
    "s=input(\"Enter the string\")\n",
    "c=0\n",
    "\n",
    "for i in s:\n",
    "    c+=1\n",
    "print(\"length of string\",c)    \n"
   ]
  },
  {
   "cell_type": "code",
   "execution_count": 13,
   "id": "5482a87b-41d9-4531-ac73-2439492308dd",
   "metadata": {},
   "outputs": [
    {
     "name": "stdin",
     "output_type": "stream",
     "text": [
      "Enter the string Virat Shubman\n"
     ]
    },
    {
     "name": "stdout",
     "output_type": "stream",
     "text": [
      "Yes, string contains word \n"
     ]
    }
   ],
   "source": [
    "# 9. Check if a string contains a specific word.\n",
    "#Ans:\n",
    "\n",
    "s=input(\"Enter the string\")\n",
    "\n",
    "if \"a\" in s:\n",
    "    print(\"Yes, string contains word \")\n",
    "else:\n",
    "    print(\"No, string does not contain word \")"
   ]
  },
  {
   "cell_type": "code",
   "execution_count": 12,
   "id": "0dfa7df3-ec88-44b1-9122-eec87299bcc1",
   "metadata": {},
   "outputs": [
    {
     "name": "stdout",
     "output_type": "stream",
     "text": [
      "Replaced string Ba_Hey\n"
     ]
    }
   ],
   "source": [
    "#10. Replace a word in a string with another word.\n",
    "#Ans: \n",
    "\n",
    "s = \"Bala\"\n",
    "s1=s.replace(\"la\",\"_Hey\")\n",
    "print(\"Replaced string\",s1)"
   ]
  },
  {
   "cell_type": "code",
   "execution_count": 10,
   "id": "ecac5e1b-0ac8-4cf5-aaef-31a52321ecda",
   "metadata": {},
   "outputs": [
    {
     "name": "stdout",
     "output_type": "stream",
     "text": [
      "Number of occurrence of string 3\n"
     ]
    }
   ],
   "source": [
    "#11. Count the occurrences of a word in a string.\n",
    "#Ans:\n",
    "s =\"balaji is playing bat ball \"\n",
    "print(\"Number of occurrence of string\",s.count(\"ba\"))\n",
    "       "
   ]
  },
  {
   "cell_type": "code",
   "execution_count": 16,
   "id": "69c18b55-ee08-4d14-a551-aead5bc21e9f",
   "metadata": {},
   "outputs": [
    {
     "name": "stdout",
     "output_type": "stream",
     "text": [
      "4\n"
     ]
    }
   ],
   "source": [
    "#12. Find the first occurrence of a word in a string.\n",
    "#Ans:\n",
    "\n",
    "s =\" Hi all we are learning python\"\n",
    "print(s.find(\"a\",0,-1))"
   ]
  },
  {
   "cell_type": "code",
   "execution_count": 29,
   "id": "f1df6f82-ac16-4c3a-8124-bd71e746a88a",
   "metadata": {},
   "outputs": [
    {
     "name": "stdout",
     "output_type": "stream",
     "text": [
      "29\n"
     ]
    }
   ],
   "source": [
    "#13. Find the last occurrence of a word in a string.\n",
    "#Ans:\n",
    "s =\" Hi all we are learning python \"\n",
    "print(s.rindex(\"n\",0,-1))"
   ]
  },
  {
   "cell_type": "code",
   "execution_count": 30,
   "id": "686f580e-63bc-4049-af0c-b0046a4325c2",
   "metadata": {},
   "outputs": [
    {
     "name": "stdout",
     "output_type": "stream",
     "text": [
      "['Hi', 'all', 'we', 'are', 'learning', 'python']\n"
     ]
    }
   ],
   "source": [
    "#14. Split a string into a list of words.\n",
    "#Ans:\n",
    "\n",
    "s =\" Hi all we are learning python \"\n",
    "\n",
    "print(s.split())\n"
   ]
  },
  {
   "cell_type": "code",
   "execution_count": 7,
   "id": "feac682d-7bd3-4f2e-a23e-3ad1156b9445",
   "metadata": {},
   "outputs": [
    {
     "name": "stdout",
     "output_type": "stream",
     "text": [
      "Hi all we are learning python\n"
     ]
    }
   ],
   "source": [
    "#15. Join a list of words into a string.\n",
    "#Ans:\n",
    "s=['Hi', 'all', 'we', 'are', 'learning', 'python']\n",
    "\n",
    "print(\" \".join(s))"
   ]
  },
  {
   "cell_type": "code",
   "execution_count": 34,
   "id": "e921e3f6-06b7-4879-979d-3762999dc2ad",
   "metadata": {},
   "outputs": [
    {
     "name": "stdout",
     "output_type": "stream",
     "text": [
      "_Hi_all_we_are_learning_python_\n"
     ]
    }
   ],
   "source": [
    "#16. Convert a string where words are separated by spaces to one where words\n",
    "#are separated by underscores.\n",
    "#Ans:\n",
    "\n",
    "s =\" Hi all we are learning python \"\n",
    "print(s.replace(\" \",\"_\"))"
   ]
  },
  {
   "cell_type": "code",
   "execution_count": 36,
   "id": "3cfa85db-d0b9-4193-bfed-c1f4417560f3",
   "metadata": {},
   "outputs": [
    {
     "name": "stdout",
     "output_type": "stream",
     "text": [
      "True\n"
     ]
    }
   ],
   "source": [
    "#17. Check if a string starts with a specific word or phrase.\n",
    "#Ans:\n",
    "s =\"Hi all we are learning python \"\n",
    "print(s.startswith(\"Hi\"))"
   ]
  },
  {
   "cell_type": "code",
   "execution_count": 49,
   "id": "f7da658b-013d-4a00-896c-a6b55446545a",
   "metadata": {},
   "outputs": [
    {
     "name": "stdout",
     "output_type": "stream",
     "text": [
      "True\n"
     ]
    }
   ],
   "source": [
    "#18. Check if a string ends with a specific word or phrase.\n",
    "#Ans:\n",
    "s =\"Hi all we are learning python\"\n",
    "print(s.endswith(\"python\"))"
   ]
  },
  {
   "cell_type": "code",
   "execution_count": 50,
   "id": "2239eb25-9d2e-4d6d-b09d-6d5d95eebd45",
   "metadata": {},
   "outputs": [
    {
     "name": "stdout",
     "output_type": "stream",
     "text": [
      "Hi All We Are Learning Python\n"
     ]
    }
   ],
   "source": [
    "#19. Convert a string to title case (e.g., \"hello world\" to \"Hello World\").\n",
    "#Ans:\n",
    "s =\"Hi all we are learning python\"\n",
    "print(s.title())"
   ]
  },
  {
   "cell_type": "code",
   "execution_count": 54,
   "id": "4d175ec5-f854-41c9-a921-0d85f1df0a4e",
   "metadata": {},
   "outputs": [
    {
     "name": "stdout",
     "output_type": "stream",
     "text": [
      "Longest word in a string :  learning\n"
     ]
    }
   ],
   "source": [
    "#20. Find the longest word in a string.\n",
    "#Ans:\n",
    "\n",
    "s =\"Hi all we are learning python\"\n",
    "print(\"Longest word in a string : \", max(s.split(),key=len))"
   ]
  },
  {
   "cell_type": "code",
   "execution_count": 55,
   "id": "99a996e8-aee3-4187-8c9d-d2949c9fc623",
   "metadata": {},
   "outputs": [
    {
     "name": "stdout",
     "output_type": "stream",
     "text": [
      "Longest word in a string :  Hi\n"
     ]
    }
   ],
   "source": [
    "#21. Find the shortest word in a string.\n",
    "#Ans:\n",
    "s =\"Hi all we are learning python\"\n",
    "print(\"Longest word in a string : \", min(s.split(),key=len))"
   ]
  },
  {
   "cell_type": "code",
   "execution_count": 5,
   "id": "35283d33-e17a-4315-89e7-cefbe94c917b",
   "metadata": {},
   "outputs": [
    {
     "name": "stdout",
     "output_type": "stream",
     "text": [
      "['python', 'learning', 'are', 'we', 'all', 'Hi']\n"
     ]
    }
   ],
   "source": [
    "#22. Reverse the order of words in a string.\n",
    "#Ans:\n",
    "s =\"Hi all we are learning python\"\n",
    "print(s.split()[::-1])\n"
   ]
  },
  {
   "cell_type": "code",
   "execution_count": 3,
   "id": "457670bb-5a89-4cd9-a206-6d6bde5520ac",
   "metadata": {},
   "outputs": [
    {
     "name": "stdout",
     "output_type": "stream",
     "text": [
      "True\n"
     ]
    }
   ],
   "source": [
    "#23. Check if a string is alphanumeric.\n",
    "#Ans:\n",
    "s =\"python123\"\n",
    "print(s.isalnum())"
   ]
  },
  {
   "cell_type": "code",
   "execution_count": 17,
   "id": "14b6952b-72bb-41e3-b72b-3a809c3eb883",
   "metadata": {},
   "outputs": [
    {
     "name": "stdout",
     "output_type": "stream",
     "text": [
      "All digits from string :  [10, 45, 123]\n"
     ]
    }
   ],
   "source": [
    "#24. Extract all digits from a string.\n",
    "#Ans:\n",
    "s =\"Hi 10 all we 45 are learning python 123\"\n",
    "c=[]\n",
    "\n",
    "for i in s.split():\n",
    "    if i.isdigit():\n",
    "        c.append(int(i))\n",
    "print(\"All digits from string : \",c)        "
   ]
  },
  {
   "cell_type": "code",
   "execution_count": 38,
   "id": "f5be746f-bef1-41b4-9129-b92a47f3d20e",
   "metadata": {},
   "outputs": [
    {
     "name": "stdout",
     "output_type": "stream",
     "text": [
      "All alphabets from a string:  ['H', 'i', 'a', 'l', 'l', 'w', 'e', 'a', 'r', 'e', 'l', 'e', 'a', 'r', 'n', 'i', 'n', 'g', 'p', 'y', 't', 'h', 'o', 'n']\n"
     ]
    }
   ],
   "source": [
    "#25. Extract all alphabets from a string.\n",
    "#Ans:\n",
    "\n",
    "s =\"Hi 10 all we 45 are learning python 123\"\n",
    "c=[]\n",
    "\n",
    "for i in s.split():\n",
    "    if i.isalpha():\n",
    "        c.extend(i)\n",
    "print(\"All alphabets from a string: \",c)        "
   ]
  },
  {
   "cell_type": "code",
   "execution_count": 48,
   "id": "30ac709b-2fd8-4272-8988-cd4b20441e28",
   "metadata": {},
   "outputs": [
    {
     "name": "stdout",
     "output_type": "stream",
     "text": [
      "Uppercase letters from string:  12\n"
     ]
    }
   ],
   "source": [
    "#26. Count the number of uppercase letters in a string.\n",
    "#Ans:\n",
    "s =\"Hi All WE 45 Are Learning PYTHON 123\"\n",
    "U=0\n",
    "for i in range(len(s)):\n",
    "    if s[i].isupper():\n",
    "        U+=1\n",
    "print(\"Uppercase letters from string: \",U)"
   ]
  },
  {
   "cell_type": "code",
   "execution_count": 50,
   "id": "f3a385ff-a9c0-44c1-b5c7-b1125948b120",
   "metadata": {},
   "outputs": [
    {
     "name": "stdout",
     "output_type": "stream",
     "text": [
      "Lowercase letters from string:  13\n"
     ]
    }
   ],
   "source": [
    "#27. Count the number of lowercase letters in a string.\n",
    "#Ans:\n",
    "s =\"Hi All WE 45 Are Learning PYTHOn 123\"\n",
    "L=0\n",
    "for i in range(len(s)):\n",
    "    if s[i].islower():\n",
    "        L+=1\n",
    "print(\"Lowercase letters from string: \",L)"
   ]
  },
  {
   "cell_type": "code",
   "execution_count": 58,
   "id": "25e750d7-689d-4241-9e01-cc942ccb23a8",
   "metadata": {},
   "outputs": [
    {
     "name": "stdout",
     "output_type": "stream",
     "text": [
      "hI all we 45 Are lEARNING pythON\n"
     ]
    }
   ],
   "source": [
    "#28. Swap the case of each character in a string.\n",
    "#Ans:\n",
    "s=\"Hi ALL WE 45 aRE Learning PYTHon\"\n",
    "\n",
    "print(s.swapcase())        "
   ]
  },
  {
   "cell_type": "code",
   "execution_count": 59,
   "id": "bf333fde-efdf-49df-8847-7ea6f6ed1713",
   "metadata": {},
   "outputs": [
    {
     "name": "stdout",
     "output_type": "stream",
     "text": [
      "Hi  WE 45 aRE Learning PYTHon\n"
     ]
    }
   ],
   "source": [
    "#29. Remove a specific word from a string.\n",
    "#ans:\n",
    "s=\"Hi ALL WE 45 aRE Learning PYTHon\"\n",
    "print(s.replace(\"ALL\",\"\"))"
   ]
  },
  {
   "cell_type": "code",
   "execution_count": 4,
   "id": "d203cdca-d93a-4595-b0e0-05845b40fad5",
   "metadata": {},
   "outputs": [
    {
     "name": "stdin",
     "output_type": "stream",
     "text": [
      "Enter the email id :  bjuye@gmail.com\n"
     ]
    },
    {
     "name": "stdout",
     "output_type": "stream",
     "text": [
      "This is valid email id\n"
     ]
    }
   ],
   "source": [
    "#30. Check if a string is a valid email address\n",
    "#Ans:\n",
    "import re\n",
    "E = input(\"Enter the email id : \")\n",
    "pattern = r'^[\\w\\.-]+@[\\w\\.-]+\\.\\w+$'\n",
    "\n",
    "if re.match(pattern,E):\n",
    "    print('This is valid email id')\n",
    "else:\n",
    "    print('This is not valid email id')   \n",
    " "
   ]
  },
  {
   "cell_type": "code",
   "execution_count": 13,
   "id": "14541a25-417a-4958-aab5-1e77952e9381",
   "metadata": {},
   "outputs": [
    {
     "name": "stdin",
     "output_type": "stream",
     "text": [
      "Enter the email id :  bjuye@gmail.com\n"
     ]
    },
    {
     "name": "stdout",
     "output_type": "stream",
     "text": [
      "bjuye\n"
     ]
    }
   ],
   "source": [
    "#31. Extract the username from an email address string.\n",
    "#Ans:\n",
    "E = input(\"Enter the email id : \")\n",
    "print(E.split(\"@\")[0])"
   ]
  },
  {
   "cell_type": "code",
   "execution_count": 1,
   "id": "00d09026-8ebf-45e2-bf81-e9ca3e889073",
   "metadata": {},
   "outputs": [
    {
     "name": "stdin",
     "output_type": "stream",
     "text": [
      "Enter the email id :  bjuye@gmail.com\n"
     ]
    },
    {
     "name": "stdout",
     "output_type": "stream",
     "text": [
      "gmail.com\n"
     ]
    }
   ],
   "source": [
    "#32. Extract the domain name from an email address string.\n",
    "#Ans:\n",
    "E = input(\"Enter the email id : \")\n",
    "print(E.split(\"@\")[-1])"
   ]
  },
  {
   "cell_type": "code",
   "execution_count": 18,
   "id": "c7cd72c0-2474-4dce-8813-a97b6c39921f",
   "metadata": {},
   "outputs": [
    {
     "name": "stdout",
     "output_type": "stream",
     "text": [
      " Learning PYTHon \n"
     ]
    }
   ],
   "source": [
    "#33. Replace multiple spaces in a string with a single space.\n",
    "#Ans:\n",
    "s=\"   Learning   PYTHon   \"\n",
    "print(s.replace(\"   \",\" \"))"
   ]
  },
  {
   "cell_type": "code",
   "execution_count": 19,
   "id": "53e089ce-5df8-4574-97ec-2915ff455c7f",
   "metadata": {},
   "outputs": [
    {
     "name": "stdin",
     "output_type": "stream",
     "text": [
      "Enter the valid URL https://wwav2.wwalliance.com/wwaonline/admin/grdbratelookup/globalrateupload\n"
     ]
    },
    {
     "name": "stdout",
     "output_type": "stream",
     "text": [
      "string has valid url\n"
     ]
    }
   ],
   "source": [
    "#34. Check if a string is a valid URL.\n",
    "#Ans:\n",
    "s=input(\"Enter the valid URL\")\n",
    "X = \"https:\" in s or 'http:' in s\n",
    "Y = X\n",
    "if Y == True:\n",
    "    print('string has valid url')\n",
    "else:\n",
    "    print('string has not valid url')"
   ]
  },
  {
   "cell_type": "code",
   "execution_count": 27,
   "id": "2cbc5363-2969-44be-8cac-25729e799051",
   "metadata": {},
   "outputs": [
    {
     "name": "stdin",
     "output_type": "stream",
     "text": [
      "Enter the valid URL https://wwav2.wwalliance.com/wwaonline/admin/grdbratelookup/globalrateupload\n"
     ]
    },
    {
     "name": "stdout",
     "output_type": "stream",
     "text": [
      "https\n"
     ]
    }
   ],
   "source": [
    "#35. Extract the protocol (http or https) from a URL string.\n",
    "#Ans:\n",
    "\n",
    "s=input(\"Enter the valid URL\")\n",
    "print( s[0:5])"
   ]
  },
  {
   "cell_type": "code",
   "execution_count": 3,
   "id": "edb3b15b-a458-4b87-a1f6-6ff8513be52e",
   "metadata": {},
   "outputs": [
    {
     "name": "stdout",
     "output_type": "stream",
     "text": [
      "L : 1,e : 1,a : 1,r : 1,n : 3,i : 1,n : 3,g : 1,  : 1,P : 1,Y : 1,T : 1,H : 1,o : 1,n : 3,"
     ]
    }
   ],
   "source": [
    "#36. Find the frequency of each character in a string.\n",
    "#Ans:\n",
    "s=\"Learning PYTHon\"\n",
    "for i in s:\n",
    "    frequency =s.count(i)\n",
    "    print(str(i),\":\",str(frequency),end=\",\")"
   ]
  },
  {
   "cell_type": "code",
   "execution_count": 5,
   "id": "38ee4c5a-ba26-4ccd-95b7-fc1c188fe069",
   "metadata": {},
   "outputs": [
    {
     "name": "stdout",
     "output_type": "stream",
     "text": [
      "Hi ALL WE 45 aRE Learning PYTHon"
     ]
    }
   ],
   "source": [
    "#37. Remove all punctuation from a string.\n",
    "#Ans:\n",
    "import string\n",
    "\n",
    "a=\"Hi, ALL /WE 45 ?aRE Learning. PYTHon/\"\n",
    "\n",
    "for i in a:\n",
    "    if i in string.punctuation:             \n",
    "        i = \"\"\n",
    "    print(i, end=\"\")\n"
   ]
  },
  {
   "cell_type": "code",
   "execution_count": 19,
   "id": "fe930e75-3acf-4e76-9c91-459240e60416",
   "metadata": {},
   "outputs": [
    {
     "name": "stdout",
     "output_type": "stream",
     "text": [
      "s String does not contains only digits\n",
      "a String contains only digits\n"
     ]
    }
   ],
   "source": [
    "#38. Check if a string contains only digits.\n",
    "#Ans:\n",
    "s= \"Hi All WE 45 Are Learning PYTHOn 123\"\n",
    "a=\"122345\"\n",
    "if s.isdigit():\n",
    "    print(\"s String contains only digits\")\n",
    "else:\n",
    "    print(\"s String does not contains only digits\")\n",
    "if a.isdigit():\n",
    "    print(\"a String contains only digits\")\n",
    "else:\n",
    "    print(\"a String does not contins digits\")"
   ]
  },
  {
   "cell_type": "code",
   "execution_count": 3,
   "id": "423cb175-100c-4fa7-91d4-dc23ffa5d904",
   "metadata": {},
   "outputs": [
    {
     "name": "stdout",
     "output_type": "stream",
     "text": [
      "s String contains only alphabets\n",
      "a String does not contains alphabets\n"
     ]
    }
   ],
   "source": [
    "#39. Check if a string contains only alphabets.\n",
    "#Ans:\n",
    "s= \"LearningPYTHOn\"\n",
    "a=\"122345\"\n",
    "if s.isalpha():\n",
    "    print(\"s String contains only alphabets\")\n",
    "else:\n",
    "    print(\"s String does not contains only alphabets\")\n",
    "if a.isalpha():\n",
    "    print(\"a String contains only alphabets\")\n",
    "else:\n",
    "    print(\"a String does not contains alphabets\")"
   ]
  },
  {
   "cell_type": "code",
   "execution_count": 27,
   "id": "50393315-b9db-4ebd-973d-f2f2ca9f2ce1",
   "metadata": {},
   "outputs": [
    {
     "name": "stdout",
     "output_type": "stream",
     "text": [
      "['H', 'i', 'A', 'l', 'l', 'W', 'E', 'A', 'r', 'e', 'L', 'e', 'a', 'r', 'n', 'i', 'n', 'g', 'P', 'Y', 'T', 'H', 'O', 'n']\n"
     ]
    }
   ],
   "source": [
    "#40. Convert a string to a list of characters.\n",
    "#Ans:\n",
    "s= \"Hi All WE 34 Are Learning PYTHOn\"\n",
    "s1=[]\n",
    "for i in s.split():\n",
    "    if i.isalpha(): # if we want to check alphabets and wants only charecters from string or else we can use just below statement\n",
    "        s1.extend(i)\n",
    "print(s1)"
   ]
  },
  {
   "cell_type": "code",
   "execution_count": 1,
   "id": "be7e7b23-cff6-4ad8-aede-3af610f09c8c",
   "metadata": {},
   "outputs": [
    {
     "name": "stdout",
     "output_type": "stream",
     "text": [
      "The strings are anagrams.\n"
     ]
    }
   ],
   "source": [
    "#41. Check if two strings are anagrams.\n",
    "#Ans:\n",
    "a=\"Race\"\n",
    "b=\"Care\"\n",
    "s1=a.lower()\n",
    "s2=b.lower()\n",
    "\n",
    "def check(s1, s2):\n",
    "\tif(sorted(s1) == sorted(s2)):\n",
    "\t\tprint(\"The strings are anagrams.\")\n",
    "\telse:\n",
    "\t\tprint(\"The strings aren't anagrams.\")\t\t\n",
    "\t\t\n",
    "check(s1, s2)"
   ]
  },
  {
   "cell_type": "code",
   "execution_count": 7,
   "id": "d5be78ff-1577-471c-9f43-e930da9ec93b",
   "metadata": {},
   "outputs": [
    {
     "name": "stdout",
     "output_type": "stream",
     "text": [
      "Encoded text: dgnnq, yqtnf!\n"
     ]
    }
   ],
   "source": [
    "#42. Encode a string using a Caesar cipher.\n",
    "#Ans:\n",
    "def caesar_cipher(text, shift):\n",
    "    encoded_text = \"\"    \n",
    "    for char in text:\n",
    "        if char.isalpha():\n",
    "            encoded_char = chr((ord(char) + shift - ord('a')) % 26 + ord('a'))\n",
    "        else:\n",
    "            encoded_char = char\n",
    "            \n",
    "        encoded_text += encoded_char\n",
    "    return encoded_text\n",
    "\n",
    "text = \"Hello, world!\"\n",
    "shift = 2\n",
    "encoded_text = caesar_cipher(text, shift)\n",
    "\n",
    "print(\"Encoded text:\", encoded_text)"
   ]
  },
  {
   "cell_type": "code",
   "execution_count": 14,
   "id": "a29d16f1-fff7-4cd5-a27b-a73fd26d852d",
   "metadata": {},
   "outputs": [
    {
     "name": "stdout",
     "output_type": "stream",
     "text": [
      "decoded text: hello, world!\n"
     ]
    }
   ],
   "source": [
    "#43. Decode a Caesar cipher encoded string.\n",
    "#Ans:\n",
    "def caesar_cipher_decoder(text, shift):\n",
    "    decoded_text = \"\"    \n",
    "    for char in text:\n",
    "        if char.isalpha():\n",
    "            decoded_char = chr((ord(char) - shift - ord('a')) % 26 + ord('a'))\n",
    "        else:\n",
    "            decoded_char = char\n",
    "            \n",
    "        decoded_text += decoded_char\n",
    "    return decoded_text\n",
    "\n",
    "text = \"jgnnq, yqtnf!\"\n",
    "shift = 2\n",
    "decoded_text = caesar_cipher_decoder(text, shift)\n",
    "\n",
    "print(\"decoded text:\", decoded_text)\n"
   ]
  },
  {
   "cell_type": "code",
   "execution_count": 20,
   "id": "32e2099a-e355-4dd4-8f71-81e5c4fbf8cd",
   "metadata": {},
   "outputs": [
    {
     "name": "stdout",
     "output_type": "stream",
     "text": [
      "Most frequent word: hello\n"
     ]
    }
   ],
   "source": [
    "#44. Find the most frequent word in a string.\n",
    "#Ans:\n",
    "import re\n",
    "from collections import Counter\n",
    "\n",
    "def most_frequent_word(input_string):\n",
    "    clean_string = re.sub(r'[^\\w\\s]', '', input_string).lower()\n",
    "\n",
    "    words = clean_string.split()\n",
    "\n",
    "    word_counter = Counter(words)\n",
    "\n",
    "\n",
    "    most_common_word = word_counter.most_common(1)[0][0]\n",
    "\n",
    "    return most_common_word\n",
    "\n",
    "input_str = \"Hello world , hello there! How's the world \" \n",
    "\n",
    "most_common = most_frequent_word(input_str)\n",
    "\n",
    "print(\"Most frequent word:\", most_common)"
   ]
  },
  {
   "cell_type": "code",
   "execution_count": 14,
   "id": "7110a0b1-cd65-41ec-88c9-36f45572d7aa",
   "metadata": {},
   "outputs": [
    {
     "name": "stdout",
     "output_type": "stream",
     "text": [
      "hello\n",
      "world\n",
      "all\n",
      "and\n"
     ]
    }
   ],
   "source": [
    "#45. Find all unique words in a string.\n",
    "#ans:\n",
    "s=\"hello all world hello world and hello\"\n",
    "s1=set(s.split())\n",
    "for i in s1:\n",
    "    print(i)"
   ]
  },
  {
   "cell_type": "code",
   "execution_count": 4,
   "id": "1fc06373-6099-478d-9684-f877ba87ab71",
   "metadata": {},
   "outputs": [
    {
     "name": "stdout",
     "output_type": "stream",
     "text": [
      "'Pwskills' has 1 syllables.\n",
      "'Ineuron' has 3 syllables.\n",
      "'syllable' has 3 syllables.\n"
     ]
    }
   ],
   "source": [
    "#46. Count the number of syllables in a string.\n",
    "#Ans:\n",
    "import re\n",
    "\n",
    "def count_syllables(word):\n",
    "    vowel_groups = re.findall(r'[aeiouy]+', word, re.IGNORECASE)\n",
    "\n",
    "    return len(vowel_groups)\n",
    "\n",
    "word1 = \"Pwskills\"\n",
    "word2 = \"Ineuron\"\n",
    "word3 = \"syllable\"\n",
    "\n",
    "syllables1 = count_syllables(word1)\n",
    "syllables2 = count_syllables(word2)\n",
    "syllables3 = count_syllables(word3)\n",
    "\n",
    "print(f\"'{word1}' has {syllables1} syllables.\")\n",
    "print(f\"'{word2}' has {syllables2} syllables.\")\n",
    "print(f\"'{word3}' has {syllables3} syllables.\")"
   ]
  },
  {
   "cell_type": "code",
   "execution_count": 6,
   "id": "fe451f92-e926-474b-8b03-d1f30e43914b",
   "metadata": {},
   "outputs": [
    {
     "name": "stdout",
     "output_type": "stream",
     "text": [
      "string contains special characters\n"
     ]
    }
   ],
   "source": [
    "#47. Check if a string contains any special characters.\n",
    "#Ans:\n",
    "s = 'viratk@hli@pws#skills%'\n",
    "spclchar = '[@_!#$%^&*()<>?/\\|}{~:]'\n",
    "c = 0\n",
    "\n",
    "s.split()\n",
    "for i in range(len(s)):\n",
    "    if s[i] in spclchar:\n",
    "        c +=1\n",
    "if c :\n",
    "    print('string contains special characters')\n",
    "else:\n",
    "    print('string does not contains any special characters')"
   ]
  },
  {
   "cell_type": "code",
   "execution_count": 14,
   "id": "53ac4cf7-7c32-48ac-8177-9e2ab8e191a4",
   "metadata": {},
   "outputs": [
    {
     "name": "stdin",
     "output_type": "stream",
     "text": [
      "Enter the nth word index number: 3\n"
     ]
    },
    {
     "name": "stdout",
     "output_type": "stream",
     "text": [
      "Remove word: to\n",
      "new word:  I love  play cricket\n"
     ]
    }
   ],
   "source": [
    "#48. Remove the nth word from a string.\n",
    "#Ans:\n",
    "s = 'I love to play cricket'\n",
    "s1=s.split()\n",
    "nth_word = int(input(\"Enter the nth word index number:\"))-1\n",
    "removed_word=print(\"Remove word:\",s1[nth_word])\n",
    "new_word=s.replace(s1[nth_word],\"\")\n",
    "print(\"new word: \",new_word)\n"
   ]
  },
  {
   "cell_type": "code",
   "execution_count": 21,
   "id": "2bd8e812-8967-4695-af84-85c6dd3079c4",
   "metadata": {},
   "outputs": [
    {
     "name": "stdin",
     "output_type": "stream",
     "text": [
      "Enter the nth word index number: 2\n",
      "Enter the replaced word : too\n"
     ]
    },
    {
     "name": "stdout",
     "output_type": "stream",
     "text": [
      "I too love to play cricket\n"
     ]
    }
   ],
   "source": [
    "#49. Insert a word at the nth position in a string.\n",
    "#Ans:\n",
    "\n",
    "s49 = 'I love to play cricket'\n",
    "sp1=s49.split()\n",
    "nth_Position = int(input(\"Enter the nth word index number:\"))-1\n",
    "replace_word = input(\"Enter the replaced word :\")\n",
    "s2=list(s1)\n",
    "temp = s2.insert(nth_Position,replace_word)\n",
    "s2 = ' '.join(s2)\n",
    "print(s2)"
   ]
  },
  {
   "cell_type": "code",
   "execution_count": 1,
   "id": "1e00c768-cab6-424f-88ef-5bc8702d3472",
   "metadata": {},
   "outputs": [
    {
     "name": "stdout",
     "output_type": "stream",
     "text": [
      "['pwskills', 'ineuron', 'sudh', 'kumar']\n"
     ]
    }
   ],
   "source": [
    "#50. Convert a CSV string to a list of lists.\n",
    "#Ans:\n",
    "csv_str = 'pwskills,ineuron,sudh,kumar'\n",
    "new_str = csv_str.split(',')\n",
    "print(new_str)"
   ]
  },
  {
   "cell_type": "code",
   "execution_count": 18,
   "id": "e86e8212-2cb6-4466-bbb2-e2055486cd29",
   "metadata": {},
   "outputs": [
    {
     "name": "stdout",
     "output_type": "stream",
     "text": [
      "[1, 2, 3, 4, 5, 6, 7, 8, 9, 10]\n"
     ]
    }
   ],
   "source": [
    "#List Based Practice Problem :\n",
    "#1. Create a list with integers from 1 to 10.\n",
    "#Ans:\n",
    "\n",
    "l=list(range (1,11))\n",
    "print(l)\n",
    "    "
   ]
  },
  {
   "cell_type": "code",
   "execution_count": 26,
   "id": "70145159-91c8-4c8a-8d11-c4cf1fedac48",
   "metadata": {},
   "outputs": [
    {
     "name": "stdout",
     "output_type": "stream",
     "text": [
      "5\n"
     ]
    }
   ],
   "source": [
    "#2. Find the length of a list without using the `len()` function.\n",
    "#Ans:\n",
    "l=[1,2,3,4,5]\n",
    "c=0\n",
    "for i in l:\n",
    "    c+=1\n",
    "print(c)\n",
    "        "
   ]
  },
  {
   "cell_type": "code",
   "execution_count": 28,
   "id": "687da0a1-a52a-46c4-9c14-3bab34643b4c",
   "metadata": {},
   "outputs": [
    {
     "name": "stdout",
     "output_type": "stream",
     "text": [
      "[1, 2, 3, 4, 5, 10]\n"
     ]
    }
   ],
   "source": [
    "#3. Append an element to the end of a list.\n",
    "#Ans:\n",
    "l=[1,2,3,4,5]\n",
    "l.append(10)\n",
    "print(l)"
   ]
  },
  {
   "cell_type": "code",
   "execution_count": 29,
   "id": "150efa60-4169-42e7-a459-60479a3b1fb8",
   "metadata": {},
   "outputs": [
    {
     "name": "stdout",
     "output_type": "stream",
     "text": [
      "[1, 25, 2, 3, 4, 5]\n"
     ]
    }
   ],
   "source": [
    "#4. Insert an element at a specific index in a list.\n",
    "#Ans:\n",
    "l=[1,2,3,4,5]\n",
    "l.insert(1,25)\n",
    "print(l)"
   ]
  },
  {
   "cell_type": "code",
   "execution_count": 30,
   "id": "4152b641-4dd7-409e-96ad-8a01540d67e0",
   "metadata": {},
   "outputs": [
    {
     "name": "stdout",
     "output_type": "stream",
     "text": [
      "[1, 2, 4, 5]\n"
     ]
    }
   ],
   "source": [
    "#5. Remove an element from a list by its value.\n",
    "#Ans:\n",
    "l=[1,2,3,4,5]\n",
    "l.remove(3)\n",
    "print(l)"
   ]
  },
  {
   "cell_type": "code",
   "execution_count": 32,
   "id": "864dfb1c-ef41-48cf-8cac-31f31c9586a2",
   "metadata": {},
   "outputs": [
    {
     "name": "stdout",
     "output_type": "stream",
     "text": [
      "[1, 2, 3, 5]\n"
     ]
    }
   ],
   "source": [
    "#6. Remove an element from a list by its index.\n",
    "#Ans:\n",
    "l=[1,2,3,4,5]\n",
    "l.pop(3)\n",
    "print(l)"
   ]
  },
  {
   "cell_type": "code",
   "execution_count": 33,
   "id": "3fed1c9a-8033-4ef4-86a1-f712ffec0b61",
   "metadata": {},
   "outputs": [
    {
     "data": {
      "text/plain": [
       "True"
      ]
     },
     "execution_count": 33,
     "metadata": {},
     "output_type": "execute_result"
    }
   ],
   "source": [
    "#7. Check if an element exists in a list.\n",
    "#Ans:\n",
    "l=[1,2,3,4,5]\n",
    "5 in l"
   ]
  },
  {
   "cell_type": "code",
   "execution_count": 40,
   "id": "73d757f3-b9f8-41bb-9c69-52a5ce737ad1",
   "metadata": {},
   "outputs": [
    {
     "data": {
      "text/plain": [
       "2"
      ]
     },
     "execution_count": 40,
     "metadata": {},
     "output_type": "execute_result"
    }
   ],
   "source": [
    "#8. Find the index of the first occurrence of an element in a list.\n",
    "#Ans:\n",
    "l=[1,2,4,3,2,4,3,5,3,4,5,1]\n",
    "l.index(4)"
   ]
  },
  {
   "cell_type": "code",
   "execution_count": 41,
   "id": "34a0e4c1-b1ee-4876-9ed5-0a29013d0de2",
   "metadata": {},
   "outputs": [
    {
     "data": {
      "text/plain": [
       "3"
      ]
     },
     "execution_count": 41,
     "metadata": {},
     "output_type": "execute_result"
    }
   ],
   "source": [
    "#9. Count the occurrences of an element in a list.\n",
    "#Ans:\n",
    "l=[1,2,4,3,2,4,3,5,3,4,5,1]\n",
    "l.count(4)"
   ]
  },
  {
   "cell_type": "code",
   "execution_count": 42,
   "id": "5ce55138-4d94-4034-b789-29e3cfa00bb6",
   "metadata": {},
   "outputs": [
    {
     "name": "stdout",
     "output_type": "stream",
     "text": [
      "[5, 4, 3, 2, 1]\n"
     ]
    }
   ],
   "source": [
    "#10. Reverse the order of elements in a list.\n",
    "#Ans:\n",
    "l=[1,2,3,4,5]\n",
    "l1=l[::-1]\n",
    "print(l1)"
   ]
  },
  {
   "cell_type": "code",
   "execution_count": 55,
   "id": "730e1201-31dc-4ff9-9139-63ebb0f76f0c",
   "metadata": {},
   "outputs": [
    {
     "name": "stdout",
     "output_type": "stream",
     "text": [
      "[1, 2, 4, 5, 6, 8, 10, 12]\n"
     ]
    }
   ],
   "source": [
    "#11. Sort a list in ascending order.\n",
    "#Ans:\n",
    "l=[5,4,6,8,10,12,1,2]\n",
    "l.sort()\n",
    "print(l)"
   ]
  },
  {
   "cell_type": "code",
   "execution_count": 57,
   "id": "69e6843d-99d9-475d-a460-a65cee5ebf5b",
   "metadata": {},
   "outputs": [
    {
     "name": "stdout",
     "output_type": "stream",
     "text": [
      "[12, 10, 8, 6, 5, 4, 2, 1]\n"
     ]
    }
   ],
   "source": [
    "#12. Sort a list in descending order.\n",
    "#Ans:\n",
    "l=[5,4,6,8,10,12,1,2]\n",
    "l.sort(reverse=True)\n",
    "print(l)"
   ]
  },
  {
   "cell_type": "code",
   "execution_count": 5,
   "id": "c042d067-2508-429f-9b42-ea6fd215c87b",
   "metadata": {},
   "outputs": [
    {
     "name": "stdout",
     "output_type": "stream",
     "text": [
      "[2, 4, 6, 8, 10, 12, 14, 16, 18, 20]\n"
     ]
    }
   ],
   "source": [
    "#13. Create a list of even numbers from 1 to 20.\n",
    "l=list(range(2,22,2))\n",
    "print(l)"
   ]
  },
  {
   "cell_type": "code",
   "execution_count": 9,
   "id": "4a056697-b416-4031-9d70-725e3530ebd9",
   "metadata": {},
   "outputs": [
    {
     "name": "stdout",
     "output_type": "stream",
     "text": [
      "[1, 3, 5, 7, 9, 11, 13, 15, 17, 19]\n"
     ]
    }
   ],
   "source": [
    "#14. Create a list of odd numbers from 1 to 20.\n",
    "#Ans:\n",
    "l=list(range(1,20,2))\n",
    "print(l)"
   ]
  },
  {
   "cell_type": "code",
   "execution_count": 11,
   "id": "e08519a8-731c-4119-aaf0-6a2d76d0c6f4",
   "metadata": {},
   "outputs": [
    {
     "name": "stdout",
     "output_type": "stream",
     "text": [
      "15\n"
     ]
    }
   ],
   "source": [
    "#15. Find the sum of all elements in a list.\n",
    "#Ans:\n",
    "l=[1,2,3,4,5]\n",
    "l1=sum(l)\n",
    "print(l1)"
   ]
  },
  {
   "cell_type": "code",
   "execution_count": 13,
   "id": "ba05d076-937b-45ef-a7c9-4092efebb930",
   "metadata": {},
   "outputs": [
    {
     "name": "stdout",
     "output_type": "stream",
     "text": [
      "5\n"
     ]
    }
   ],
   "source": [
    "#16. Find the maximum value in a list.\n",
    "#Ans:\n",
    "l=[1,2,3,4,5]\n",
    "print(max(l))"
   ]
  },
  {
   "cell_type": "code",
   "execution_count": 14,
   "id": "b2969139-6956-4d46-bddf-6b1a15713f26",
   "metadata": {},
   "outputs": [
    {
     "name": "stdout",
     "output_type": "stream",
     "text": [
      "1\n"
     ]
    }
   ],
   "source": [
    "#17. Find the minimum value in a list.\n",
    "#Ans:\n",
    "l=[1,2,3,4,5]\n",
    "print(min(l))"
   ]
  },
  {
   "cell_type": "code",
   "execution_count": 18,
   "id": "ac55a181-3653-4b22-b4f9-98d12727a0c0",
   "metadata": {},
   "outputs": [
    {
     "name": "stdout",
     "output_type": "stream",
     "text": [
      "[1, 4, 9, 16, 25, 36, 49, 64, 81]\n"
     ]
    }
   ],
   "source": [
    "#18. Create a list of squares of numbers from 1 to 10.\n",
    "#Ans:\n",
    "l=[]\n",
    "for i in range(1,10):\n",
    "    i =i**2\n",
    "    l.append(i)\n",
    "print(l)"
   ]
  },
  {
   "cell_type": "code",
   "execution_count": 32,
   "id": "cd342517-ae82-4b8a-8304-c889d055fcd0",
   "metadata": {},
   "outputs": [
    {
     "name": "stdout",
     "output_type": "stream",
     "text": [
      "[5, 2, 7, 6, 4]\n"
     ]
    }
   ],
   "source": [
    "#19. Create a list of random numbers.\n",
    "#Ans:\n",
    "import random\n",
    "l1=[]\n",
    "for i in range(0,5):\n",
    "    a=random.randint(1,10)\n",
    "    l1.append(a)\n",
    "print(l1)"
   ]
  },
  {
   "cell_type": "code",
   "execution_count": 34,
   "id": "dd42414b-52e0-4b12-851b-54b301663b39",
   "metadata": {},
   "outputs": [
    {
     "name": "stdout",
     "output_type": "stream",
     "text": [
      "{1, 2, 3, 4, 5}\n",
      "[1, 2, 3, 4, 5]\n"
     ]
    }
   ],
   "source": [
    "#20. Remove duplicates from a list.\n",
    "#Ans:\n",
    "l=[1,2,4,3,2,4,3,5,3,4,5,1]\n",
    "s=set(l)\n",
    "print(s)\n",
    "l1=list(s)\n",
    "print(l1)\n"
   ]
  },
  {
   "cell_type": "code",
   "execution_count": 6,
   "id": "c5949148-4243-4130-93be-733880218ad4",
   "metadata": {},
   "outputs": [
    {
     "data": {
      "text/plain": [
       "[3, 4, 5]"
      ]
     },
     "execution_count": 6,
     "metadata": {},
     "output_type": "execute_result"
    }
   ],
   "source": [
    "#21. Find the common elements between two lists.\n",
    "#Ans:\n",
    "l = [1,2,4,3,2,4,3,5,3,4,5,1]\n",
    "l1 = [4,3,5,8,9,20,10]\n",
    "def common_elements(l,l1):\n",
    "    return [x for x in l if x in l1]\n",
    "\n",
    "list(set(common_elements(l,l1)))"
   ]
  },
  {
   "cell_type": "code",
   "execution_count": 20,
   "id": "f0acf8c3-9da7-4579-94a4-66021c1769f6",
   "metadata": {},
   "outputs": [
    {
     "name": "stdout",
     "output_type": "stream",
     "text": [
      "[1, 2]\n"
     ]
    }
   ],
   "source": [
    "#22. Find the difference between two lists.\n",
    "#Ans:\n",
    "l = [1,2,4,3,2,4,3,5,3,4,5,1]\n",
    "l1 = [4,3,5,8,9,20,10]\n",
    "l2 = list(set(l) - set(l1))\n",
    "print(l2)"
   ]
  },
  {
   "cell_type": "code",
   "execution_count": 22,
   "id": "2319e623-a50a-4ef3-a1a0-1a3c5894041b",
   "metadata": {},
   "outputs": [
    {
     "name": "stdout",
     "output_type": "stream",
     "text": [
      "[1, 2, 4, 3, 2, 4, 3, 5, 3, 4, 5, 1, 4, 3, 5, 8, 9, 20, 10]\n"
     ]
    }
   ],
   "source": [
    "#23. Merge two lists.\n",
    "#Ans:\n",
    "l = [1,2,4,3,2,4,3,5,3,4,5,1]\n",
    "l1 = [4,3,5,8,9,20,10]\n",
    "l2 = l + l1\n",
    "print(l2)"
   ]
  },
  {
   "cell_type": "code",
   "execution_count": 29,
   "id": "007fc596-c69a-44e3-adbe-ef0ad2e056c2",
   "metadata": {},
   "outputs": [
    {
     "name": "stdout",
     "output_type": "stream",
     "text": [
      "[2, 4, 6, 8, 10]\n"
     ]
    }
   ],
   "source": [
    "#24. Multiply all elements in a list by 2.\n",
    "#Ans:\n",
    "l=[1,2,3,4,5]\n",
    "l1=[]\n",
    "for i in l:\n",
    "    i=i*2\n",
    "    l1.append(i)\n",
    "print(l1)"
   ]
  },
  {
   "cell_type": "code",
   "execution_count": 31,
   "id": "89f48a60-4cb1-48b8-a363-8645f4aba1c6",
   "metadata": {},
   "outputs": [
    {
     "name": "stdout",
     "output_type": "stream",
     "text": [
      "[2, 4, 6, 8, 10, 16, 18, 20, 24]\n"
     ]
    }
   ],
   "source": [
    "#25. Filter out all even numbers from a list.\n",
    "#Ans:\n",
    "l=[1,2,3,4,5,6,7,8,10,13,15,16,18,20,24]\n",
    "l1=[]\n",
    "for i in l:\n",
    "    if i%2==0:\n",
    "        l1.append(i)\n",
    "print(l1)"
   ]
  },
  {
   "cell_type": "code",
   "execution_count": 1,
   "id": "aeb3c1ea-7e04-4cc2-b672-5dad5cd18d5b",
   "metadata": {},
   "outputs": [
    {
     "name": "stdout",
     "output_type": "stream",
     "text": [
      "[1, 2, 3, 4, 5]\n"
     ]
    },
    {
     "data": {
      "text/plain": [
       "int"
      ]
     },
     "execution_count": 1,
     "metadata": {},
     "output_type": "execute_result"
    }
   ],
   "source": [
    "#26. Convert a list of strings to a list of integers.\n",
    "#Ans:\n",
    "s = [\"1\",\"2\",\"3\",\"4\",\"5\"]\n",
    "l=[int(x) for x in s]\n",
    "print(l)\n",
    "type(l[1])"
   ]
  },
  {
   "cell_type": "code",
   "execution_count": 2,
   "id": "1ebed4e4-8dab-43dc-a11c-af574ea406e2",
   "metadata": {},
   "outputs": [
    {
     "name": "stdout",
     "output_type": "stream",
     "text": [
      "['1', '2', '3', '4', '5']\n"
     ]
    },
    {
     "data": {
      "text/plain": [
       "str"
      ]
     },
     "execution_count": 2,
     "metadata": {},
     "output_type": "execute_result"
    }
   ],
   "source": [
    "#27. Convert a list of integers to a list of strings.\n",
    "#Ans:\n",
    "s = [1,2,3,4,5]\n",
    "l=[str(x) for x in s]\n",
    "print(l)\n",
    "type(l[1])"
   ]
  },
  {
   "cell_type": "code",
   "execution_count": 19,
   "id": "e7789f5c-4f7a-4ebb-883d-09eedeea9ab1",
   "metadata": {},
   "outputs": [
    {
     "name": "stdout",
     "output_type": "stream",
     "text": [
      "[1, 2, 3, 4, 5, 6, 7]\n"
     ]
    }
   ],
   "source": [
    "#28. Flatten a nested list.\n",
    "#Ans:\n",
    "\n",
    "l1 = [1, [2, 3], [4, [5, 6]], 7]\n",
    "def flatten_list(l1):\n",
    "    flattened = []\n",
    "    for i in l1:\n",
    "        if isinstance(i, list):\n",
    "            flattened.extend(flatten_list(i))\n",
    "        else:\n",
    "            flattened.append(i)\n",
    "    return flattened\n",
    "\n",
    "flattened_list = flatten_list(l1)\n",
    "\n",
    "print(flattened_list)\n"
   ]
  },
  {
   "cell_type": "code",
   "execution_count": 2,
   "id": "c067e553-f385-42cd-89d5-28b2c98b8eb1",
   "metadata": {},
   "outputs": [
    {
     "name": "stdout",
     "output_type": "stream",
     "text": [
      "[0, 1, 1, 2, 3, 5, 8, 13, 21, 34]\n"
     ]
    }
   ],
   "source": [
    "#29. Create a list of the first 10 Fibonacci numbers.\n",
    "#Ans:\n",
    "def fibonacci(n):\n",
    "    l=[]\n",
    "    a,b = 0,1\n",
    "    for _ in range(n):\n",
    "        l.append(a)\n",
    "        a,b = b,a+b\n",
    "    return l  \n",
    "l1 = fibonacci(10)\n",
    "print(l1)"
   ]
  },
  {
   "cell_type": "code",
   "execution_count": 39,
   "id": "d6e0f247-1e79-4754-b490-d561af0bb291",
   "metadata": {},
   "outputs": [
    {
     "name": "stdout",
     "output_type": "stream",
     "text": [
      "The list is not sorted in ascending order.\n"
     ]
    }
   ],
   "source": [
    "#30. Check if a list is sorted.\n",
    "#Ans:\n",
    "def is_sorted_ascending(lst):\n",
    "    for i in range(1, len(lst)):\n",
    "        if lst[i] < lst[i - 1]:\n",
    "            return False\n",
    "    return True\n",
    "\n",
    "ascending_list =[10,3,5,7,12,4,2,0,13]\n",
    "\n",
    "if is_sorted_ascending(ascending_list):\n",
    "    print(\"The list is sorted in ascending order.\")\n",
    "else:\n",
    "    print(\"The list is not sorted in ascending order.\")   \n"
   ]
  },
  {
   "cell_type": "code",
   "execution_count": 4,
   "id": "d2e6f631-2f52-45d0-b2a9-dba5b3a3c353",
   "metadata": {},
   "outputs": [
    {
     "name": "stdout",
     "output_type": "stream",
     "text": [
      "[3, 4, 5, 1, 2]\n"
     ]
    }
   ],
   "source": [
    "#31. Rotate a list to the left by `n` positions\n",
    "#Ans:\n",
    "def rotate_left(lst, n):\n",
    "    n = n % len(lst)\n",
    "    return lst[n:] + lst[:n]\n",
    "\n",
    "my_list = [1, 2, 3, 4, 5]\n",
    "n = 2\n",
    "rotated_list = rotate_left(my_list, n)\n",
    "print(rotated_list)\n"
   ]
  },
  {
   "cell_type": "code",
   "execution_count": 8,
   "id": "2afcce9f-8b5d-4714-90d4-287c472f4c68",
   "metadata": {},
   "outputs": [
    {
     "name": "stdout",
     "output_type": "stream",
     "text": [
      "[4, 5, 9, 6, 3]\n"
     ]
    }
   ],
   "source": [
    "#32. Rotate a list to the right by `n` positions.\n",
    "#Ans:\n",
    "def rotate_right(lst, n):\n",
    "    n = n % len(lst)\n",
    "    return lst[-n:]+lst[:-n]\n",
    "\n",
    "my_list = [9, 6, 3, 4, 5]\n",
    "n = 2\n",
    "rotated_list = rotate_right(my_list, n)\n",
    "print(rotated_list)"
   ]
  },
  {
   "cell_type": "code",
   "execution_count": 1,
   "id": "15208210-278d-4293-b359-28b917832eca",
   "metadata": {},
   "outputs": [
    {
     "name": "stdout",
     "output_type": "stream",
     "text": [
      "[2, 3, 5, 7, 11, 13, 17, 19, 23, 29, 31, 37, 41, 43, 47]\n"
     ]
    }
   ],
   "source": [
    "#33. Create a list of prime numbers up to 50.\n",
    "#Ans:\n",
    "def is_prime(num):\n",
    "    if num < 2:\n",
    "        return False\n",
    "    for i in range(2, int(num ** 0.5) + 1):\n",
    "        if num % i == 0:\n",
    "            return False\n",
    "    return True\n",
    "\n",
    "prime_numbers = [num for num in range(2, 51) if is_prime(num)]\n",
    "\n",
    "print(prime_numbers)\n"
   ]
  },
  {
   "cell_type": "code",
   "execution_count": 3,
   "id": "5ce48ac0-3713-4270-9702-4c98f91f0997",
   "metadata": {},
   "outputs": [
    {
     "name": "stdout",
     "output_type": "stream",
     "text": [
      "[[1, 2], [3, 4], [5, 6], [7, 8], [9, 10], [23, 34]]\n"
     ]
    }
   ],
   "source": [
    "#34. Split a list into chunks of size `n`.\n",
    "#Ans:\n",
    "def split_list(lst, n):\n",
    "    return [lst[i:i + n] for i in range(0, len(lst), n)]\n",
    "\n",
    "lst=[1,2,3,4,5,6,7,8,9,10,23,34]\n",
    "n=2\n",
    "chunks = split_list(lst, n)\n",
    "print(chunks)"
   ]
  },
  {
   "cell_type": "code",
   "execution_count": 4,
   "id": "aaf83733-c1d2-45b9-9791-260da12715eb",
   "metadata": {},
   "outputs": [
    {
     "name": "stdout",
     "output_type": "stream",
     "text": [
      "The second largest number is: 8\n"
     ]
    }
   ],
   "source": [
    "#35. Find the second largest number in a list.\n",
    "#Ans:\n",
    "\n",
    "def second_largest(lst):\n",
    "    if len(lst) < 2:\n",
    "        return None\n",
    "\n",
    "    largest = second = float('-inf')\n",
    "\n",
    "    for num in lst:\n",
    "        if num > largest:\n",
    "            second = largest\n",
    "            largest = num\n",
    "        elif num > second and num != largest:\n",
    "            second = num\n",
    "\n",
    "    return second\n",
    "\n",
    "my_list = [4, 7, 2, 9, 5, 8]\n",
    "result = second_largest(my_list)\n",
    "print(\"The second largest number is:\", result)\n"
   ]
  },
  {
   "cell_type": "code",
   "execution_count": 7,
   "id": "044ae3e9-be35-4727-89eb-7d51a5bbeeba",
   "metadata": {},
   "outputs": [
    {
     "name": "stdout",
     "output_type": "stream",
     "text": [
      "[4, 9, 16, 25]\n"
     ]
    }
   ],
   "source": [
    "#36. Replace every element in a list with its square.\n",
    "#Ans:\n",
    "def square_list(lst):\n",
    "    l2=[]\n",
    "    for i in lst:\n",
    "        l2.append(i**2)\n",
    "    return l2\n",
    "\n",
    "lst=[2,3,4,5]\n",
    "square_list1 = square_list(lst)\n",
    "print(square_list1)"
   ]
  },
  {
   "cell_type": "code",
   "execution_count": 1,
   "id": "9fe12ff9-89bf-40e2-a5aa-c03e9fb0fd0d",
   "metadata": {},
   "outputs": [
    {
     "name": "stdout",
     "output_type": "stream",
     "text": [
      "{'apple': 0, 'banana': 1, 'cherry': 2, 'date': 3}\n"
     ]
    }
   ],
   "source": [
    "#37. Convert a list to a dictionary where list elements become keys and their indices become values.\n",
    "#Ans:\n",
    "my_list = [\"apple\", \"banana\", \"cherry\", \"date\"]\n",
    "\n",
    "\n",
    "my_dict = {item: index for index, item in enumerate(my_list)}\n",
    "\n",
    "print(my_dict)\n"
   ]
  },
  {
   "cell_type": "code",
   "execution_count": 4,
   "id": "2cbed502-e47c-4c16-8df8-2a38efefd758",
   "metadata": {},
   "outputs": [
    {
     "name": "stdout",
     "output_type": "stream",
     "text": [
      "[40, 3, 30, 11, 2]\n"
     ]
    }
   ],
   "source": [
    "#38. Shuffle the elements of a list randomly.\n",
    "#Ans:\n",
    "import random\n",
    "lst=[2,3,40,11,30]\n",
    "random.shuffle(lst)\n",
    "print(lst)\n"
   ]
  },
  {
   "cell_type": "code",
   "execution_count": 9,
   "id": "ac6ce585-1351-4e64-a4b2-d9b2f3bb0444",
   "metadata": {},
   "outputs": [
    {
     "name": "stdout",
     "output_type": "stream",
     "text": [
      "[1, 1, 2, 6, 24, 120, 720, 5040, 40320, 362880]\n"
     ]
    }
   ],
   "source": [
    "#39. Create a list of the first 10 factorial numbers.\n",
    "#Ans:\n",
    "def factorial(n):\n",
    "    if n == 0:\n",
    "        return 1\n",
    "    else:\n",
    "        result = 1\n",
    "        for i in range (1,n+1):\n",
    "            result *=i\n",
    "        return result\n",
    "    \n",
    "Factorial_num=[factorial(i) for i in range(10)]\n",
    "print(Factorial_num)"
   ]
  },
  {
   "cell_type": "code",
   "execution_count": 14,
   "id": "14f809e9-06c0-4e79-a72c-5e6971215b2c",
   "metadata": {},
   "outputs": [
    {
     "name": "stdout",
     "output_type": "stream",
     "text": [
      "The list have at least one element common\n"
     ]
    }
   ],
   "source": [
    "#40. Check if two lists have at least one element in common.\n",
    "#Ans:\n",
    "\n",
    "def common_element(l1,l2):\n",
    "    for item in l1:\n",
    "        if item in l2:\n",
    "            return True\n",
    "    return False\n",
    "\n",
    "lst1=[2,3,4,53]\n",
    "lst2=[8,6,7,53,44]\n",
    "\n",
    "if common_element(lst1,lst2):\n",
    "    print(\"The list have at least one element common\")\n",
    "else:\n",
    "    print(\"The list does not have at least one element common\")"
   ]
  },
  {
   "cell_type": "code",
   "execution_count": 17,
   "id": "e4a1b5d9-8910-466c-a308-c10ee808a527",
   "metadata": {},
   "outputs": [
    {
     "name": "stdout",
     "output_type": "stream",
     "text": [
      "[]\n"
     ]
    }
   ],
   "source": [
    "#41. Remove all elements from a list.\n",
    "#Ans:\n",
    "\n",
    "lst1=[2,3,4,53]\n",
    "lst1.clear()\n",
    "print(lst1)"
   ]
  },
  {
   "cell_type": "code",
   "execution_count": 24,
   "id": "f5152e47-b0cc-4c94-a5f5-4b968976cfdf",
   "metadata": {},
   "outputs": [
    {
     "name": "stdout",
     "output_type": "stream",
     "text": [
      "[2, 0, 4, 0, 10, 0]\n"
     ]
    }
   ],
   "source": [
    "#42. Replace negative numbers in a list with 0.\n",
    "#Ans:\n",
    "l1=[2,-3,4,-1,10,-8]\n",
    "for item in range(len(l1)):\n",
    "    if l1[item] < 0:\n",
    "        l1[item] = 0\n",
    "print(l1)\n",
    "        "
   ]
  },
  {
   "cell_type": "code",
   "execution_count": 28,
   "id": "5ce43510-08c7-4053-824c-cd60bd383e73",
   "metadata": {},
   "outputs": [
    {
     "name": "stdout",
     "output_type": "stream",
     "text": [
      "['Hi', 'all', 'how', 'are', 'you?']\n"
     ]
    }
   ],
   "source": [
    "#43. Convert a string into a list of words.\n",
    "#Ans:\n",
    "\n",
    "s=\"Hi all how are you?\"\n",
    "\n",
    "l1=s.split()\n",
    "\n",
    "print(l1)"
   ]
  },
  {
   "cell_type": "code",
   "execution_count": 32,
   "id": "b2406b85-6ed7-4f8d-90a9-5f0879b10890",
   "metadata": {},
   "outputs": [
    {
     "name": "stdout",
     "output_type": "stream",
     "text": [
      "Hi all how are you?\n"
     ]
    }
   ],
   "source": [
    "#44. Convert a list of words into a string.\n",
    "#Ans:\n",
    "l=['Hi', 'all', 'how', 'are', 'you?']\n",
    "\n",
    "s=' '.join(l)\n",
    "\n",
    "print(s)\n",
    "\n"
   ]
  },
  {
   "cell_type": "code",
   "execution_count": 33,
   "id": "88599542-8573-478e-b9c0-991f8701200c",
   "metadata": {},
   "outputs": [
    {
     "name": "stdout",
     "output_type": "stream",
     "text": [
      "[1, 2, 4, 8, 16, 32, 64, 128, 256, 512]\n"
     ]
    }
   ],
   "source": [
    "#45. Create a list of the first `n` powers of 2.\n",
    "#Ans:\n",
    "n=10\n",
    "\n",
    "power_of_2=[2**i for i in range(n)]\n",
    "\n",
    "print(power_of_2)"
   ]
  },
  {
   "cell_type": "code",
   "execution_count": 41,
   "id": "c9f5edcd-853c-49fc-980f-3d550668b91d",
   "metadata": {},
   "outputs": [
    {
     "name": "stdout",
     "output_type": "stream",
     "text": [
      "Longest string is: pwskills.\n"
     ]
    }
   ],
   "source": [
    "#46. Find the longest string in a list of strings.\n",
    "#Ans:\n",
    "        \n",
    "s=\"Hi all we are learning python in pwskills.\"\n",
    "l= s.split()\n",
    "long_string = max(l,key=len)\n",
    "print(\"Longest string is:\",long_string)"
   ]
  },
  {
   "cell_type": "code",
   "execution_count": 42,
   "id": "3a780e04-63ce-4644-9f20-0632c4ad3ba3",
   "metadata": {},
   "outputs": [
    {
     "name": "stdout",
     "output_type": "stream",
     "text": [
      "Longest string is: Hi\n"
     ]
    }
   ],
   "source": [
    "#47. Find the shortest string in a list of strings.\n",
    "#Ans:\n",
    "s=\"Hi all we are learning python in pwskills.\"\n",
    "l= s.split()\n",
    "long_string = min(l,key=len)\n",
    "print(\"Longest string is:\",long_string)"
   ]
  },
  {
   "cell_type": "code",
   "execution_count": 43,
   "id": "c414c83d-6175-475c-a53f-cef24c1f5dd4",
   "metadata": {},
   "outputs": [
    {
     "name": "stdout",
     "output_type": "stream",
     "text": [
      "[1, 3, 6, 10, 15, 21, 28, 36, 45, 55]\n"
     ]
    }
   ],
   "source": [
    "#48. Create a list of the first `n` triangular numbers.\n",
    "#Ans:\n",
    "\n",
    "n = 10 \n",
    "triangular_numbers = [i * (i + 1) // 2 for i in range(1, n + 1)]\n",
    "\n",
    "print(triangular_numbers)\n"
   ]
  },
  {
   "cell_type": "code",
   "execution_count": 45,
   "id": "b4089fe4-e5f1-4541-8ebd-d39b0f132ef5",
   "metadata": {},
   "outputs": [
    {
     "name": "stdout",
     "output_type": "stream",
     "text": [
      "sub_list is a subsequence of larger_list\n"
     ]
    }
   ],
   "source": [
    "#49. Check if a list contains another list as a subsequence.\n",
    "#Ans:\n",
    "\n",
    "def is_subsequence(sub, larger):\n",
    "    sub_len, larger_len = len(sub), len(larger)\n",
    "    sub_index, larger_index = 0, 0\n",
    "\n",
    "    while sub_index < sub_len and larger_index < larger_len:\n",
    "        if sub[sub_index] == larger[larger_index]:\n",
    "            sub_index += 1\n",
    "        larger_index += 1\n",
    "\n",
    "    return sub_index == sub_len\n",
    "\n",
    "larger_list = [1, 2, 3, 4, 5, 6, 7]\n",
    "sub_list = [2, 4, 6]\n",
    "\n",
    "if is_subsequence(sub_list, larger_list):\n",
    "    print(\"sub_list is a subsequence of larger_list\")\n",
    "else:\n",
    "    print(\"sub_list is not a subsequence of larger_list\")\n"
   ]
  },
  {
   "cell_type": "code",
   "execution_count": 46,
   "id": "fd1a64a8-6092-409b-92a8-11fbfe2e3132",
   "metadata": {},
   "outputs": [
    {
     "name": "stdout",
     "output_type": "stream",
     "text": [
      "[1, 4, 3, 2, 5]\n"
     ]
    }
   ],
   "source": [
    "#50. Swap two elements in a list by their indices.\n",
    "#Ans:\n",
    "\n",
    "my_list = [1, 2, 3, 4, 5]\n",
    "\n",
    "index1 = 1\n",
    "index2 = 3\n",
    "\n",
    "if 0 <= index1 < len(my_list) and 0 <= index2 < len(my_list):\n",
    "    temp = my_list[index1]\n",
    "    my_list[index1] = my_list[index2]\n",
    "    my_list[index2] = temp\n",
    "\n",
    "print(my_list)\n"
   ]
  },
  {
   "cell_type": "code",
   "execution_count": null,
   "id": "980c1e81-b38e-463c-8738-4e56c7335e47",
   "metadata": {},
   "outputs": [],
   "source": [
    "Tuple Based Practice Problem :"
   ]
  },
  {
   "cell_type": "code",
   "execution_count": 53,
   "id": "57e1f73e-a7d9-4127-9a83-36ccf5a04fc4",
   "metadata": {},
   "outputs": [
    {
     "name": "stdout",
     "output_type": "stream",
     "text": [
      "(1, 2, 3, 4, 5)\n"
     ]
    }
   ],
   "source": [
    "#1. Create a tuple with integers from 1 to 5.\n",
    "#Ans:\n",
    "t =tuple(range(1,6))\n",
    "\n",
    "print(t)\n"
   ]
  },
  {
   "cell_type": "code",
   "execution_count": 55,
   "id": "7aa57c34-b292-4a12-9ca2-2b8e27baf906",
   "metadata": {},
   "outputs": [
    {
     "data": {
      "text/plain": [
       "3"
      ]
     },
     "execution_count": 55,
     "metadata": {},
     "output_type": "execute_result"
    }
   ],
   "source": [
    "#2. Access the third element of a tuple.\n",
    "#ans:\n",
    "t=(1, 2, 3, 4, 5)\n",
    "t[2]"
   ]
  },
  {
   "cell_type": "code",
   "execution_count": 60,
   "id": "e7df6cfb-f279-4b88-9f1a-35a3f88dc923",
   "metadata": {},
   "outputs": [
    {
     "name": "stdout",
     "output_type": "stream",
     "text": [
      "len of tuple: 4\n"
     ]
    }
   ],
   "source": [
    "#3. Find the length of a tuple without using the `len()` function.\n",
    "#Ans:\n",
    "t=(1, 2, 3, 4, 5)\n",
    "length=0\n",
    "for _ in t:\n",
    "    length +=1\n",
    "print(\"len of tuple:\",c)    "
   ]
  },
  {
   "cell_type": "code",
   "execution_count": 61,
   "id": "36cf38f2-abf3-45ba-9ec4-1d77ee7be08a",
   "metadata": {},
   "outputs": [
    {
     "name": "stdout",
     "output_type": "stream",
     "text": [
      "The element 2 appears 3 times in the tuple.\n"
     ]
    }
   ],
   "source": [
    "#4. Count the occurrences of an element in a tuple.\n",
    "#Ans:\n",
    "t = (1, 2, 2, 3, 4, 2, 5)\n",
    "\n",
    "element_to_count = 2\n",
    "count = t.count(element_to_count)\n",
    "\n",
    "print(f\"The element {element_to_count} appears {count} times in the tuple.\")\n"
   ]
  },
  {
   "cell_type": "code",
   "execution_count": 2,
   "id": "3ee0a84c-51f3-4f1f-992a-e690dab09e58",
   "metadata": {},
   "outputs": [
    {
     "name": "stdout",
     "output_type": "stream",
     "text": [
      "The element 2 is first found at index 1.\n"
     ]
    }
   ],
   "source": [
    "#5. Find the index of the first occurrence of an element in a tuple.\n",
    "#Ans:\n",
    "\n",
    "t = (1, 2, 2, 3, 4, 2, 5)\n",
    "\n",
    "element_of_num = 2\n",
    "Index_num = t.index(element_of_num)\n",
    "\n",
    "print(f\"The element {element_of_num} is first found at index {Index_num}.\")\n"
   ]
  },
  {
   "cell_type": "code",
   "execution_count": 3,
   "id": "f2765c27-c3ec-49ed-9e58-014deb649a33",
   "metadata": {},
   "outputs": [
    {
     "data": {
      "text/plain": [
       "True"
      ]
     },
     "execution_count": 3,
     "metadata": {},
     "output_type": "execute_result"
    }
   ],
   "source": [
    "#6. Check if an element exists in a tuple.\n",
    "#Ans:\n",
    "t = (1, 2, 2, 3, 4, 2, 5)\n",
    "4 in t"
   ]
  },
  {
   "cell_type": "code",
   "execution_count": 5,
   "id": "e34454d8-469f-4fd6-8911-3e68ac1e0b73",
   "metadata": {},
   "outputs": [
    {
     "name": "stdout",
     "output_type": "stream",
     "text": [
      "[1, 2, 2, 3, 4, 2, 5] <class 'list'>\n"
     ]
    }
   ],
   "source": [
    "#7. Convert a tuple to a list.\n",
    "#Ans:\n",
    "t = (1, 2, 2, 3, 4, 2, 5)\n",
    "l= list(t)\n",
    "print(l, type(l))"
   ]
  },
  {
   "cell_type": "code",
   "execution_count": 1,
   "id": "9171fece-73c8-46c6-aaa7-e61903f40f32",
   "metadata": {},
   "outputs": [
    {
     "name": "stdout",
     "output_type": "stream",
     "text": [
      "(1, 2, 2, 3, 4, 2, 5) <class 'tuple'>\n"
     ]
    }
   ],
   "source": [
    "#8. Convert a list to a tuple.\n",
    "#Ans:\n",
    "l=[1, 2, 2, 3, 4, 2, 5]\n",
    "t=tuple(l)\n",
    "\n",
    "print(t, type(t))"
   ]
  },
  {
   "cell_type": "code",
   "execution_count": 1,
   "id": "e8653d89-9564-4d7e-a336-b28bd7bc853e",
   "metadata": {},
   "outputs": [
    {
     "name": "stdout",
     "output_type": "stream",
     "text": [
      "1\n",
      "2\n",
      "3\n"
     ]
    }
   ],
   "source": [
    "#9. Unpack the elements of a tuple into variables.\n",
    "#Ans:\n",
    "t1 = (1, 2, 3)\n",
    "\n",
    "a, b, c = t1\n",
    "\n",
    "print(a)  \n",
    "print(b)  \n",
    "print(c)\n"
   ]
  },
  {
   "cell_type": "code",
   "execution_count": 2,
   "id": "ef4f0657-f930-48e7-9c38-f03e0ed586a6",
   "metadata": {},
   "outputs": [
    {
     "name": "stdout",
     "output_type": "stream",
     "text": [
      "(2, 4, 6, 8, 10)\n"
     ]
    }
   ],
   "source": [
    "#10. Create a tuple of even numbers from 1 to 10.\n",
    "#Ans:\n",
    "\n",
    "t =tuple(range(2,11,2))\n",
    "\n",
    "print(t)"
   ]
  },
  {
   "cell_type": "code",
   "execution_count": 3,
   "id": "bbb44372-90e0-4abb-aca8-968875d7a103",
   "metadata": {},
   "outputs": [
    {
     "name": "stdout",
     "output_type": "stream",
     "text": [
      "(1, 3, 5, 7, 9)\n"
     ]
    }
   ],
   "source": [
    "#11. Create a tuple of odd numbers from 1 to 10.\n",
    "#Ans:\n",
    "t =tuple(range(1,11,2))\n",
    "\n",
    "print(t)"
   ]
  },
  {
   "cell_type": "code",
   "execution_count": 4,
   "id": "55105b07-efda-44a5-99a9-867fe7fb363c",
   "metadata": {},
   "outputs": [
    {
     "name": "stdout",
     "output_type": "stream",
     "text": [
      "(1, 10, 20, 30, 2, 11, 22, 33)\n"
     ]
    }
   ],
   "source": [
    "#12. Concatenate two tuples.\n",
    "#Ans:\n",
    "t1=(1,10,20,30)\n",
    "t2=(2,11,22,33)\n",
    "t3=t1+t2\n",
    "print(t3)"
   ]
  },
  {
   "cell_type": "code",
   "execution_count": 5,
   "id": "d3d29969-6dfe-4336-9c35-833c886af07b",
   "metadata": {},
   "outputs": [
    {
     "name": "stdout",
     "output_type": "stream",
     "text": [
      "(1, 10, 20, 30, 1, 10, 20, 30, 1, 10, 20, 30)\n"
     ]
    }
   ],
   "source": [
    "#13. Repeat a tuple three times.\n",
    "t1=(1,10,20,30)\n",
    "t2=t1*3\n",
    "print(t2)"
   ]
  },
  {
   "cell_type": "code",
   "execution_count": 10,
   "id": "23ca5ebb-113a-4650-bab4-fa500592d6e5",
   "metadata": {},
   "outputs": [
    {
     "name": "stdout",
     "output_type": "stream",
     "text": [
      "t2 is Empty Tuple\n"
     ]
    }
   ],
   "source": [
    "#14. Check if a tuple is empty.\n",
    "#Ans:\n",
    "t2=( )\n",
    "if not t2 :\n",
    "    print(\"t2 is Empty Tuple\")\n",
    "else:\n",
    "    print(\"t2 is not Empty Tuple\")"
   ]
  },
  {
   "cell_type": "code",
   "execution_count": 11,
   "id": "afc03405-c072-4a92-bb58-65f2a60ead74",
   "metadata": {},
   "outputs": [
    {
     "name": "stdout",
     "output_type": "stream",
     "text": [
      "(1, 2, 3, (4, 5, 6), ('A', 'B', 'C'))\n"
     ]
    }
   ],
   "source": [
    "#15. Create a nested tuple.\n",
    "#Ans:\n",
    "t15 = (1,2,3,(4,5,6),('A','B','C'))\n",
    "print(t15)"
   ]
  },
  {
   "cell_type": "code",
   "execution_count": 12,
   "id": "a4bc370a-d79a-435f-9117-6790e59fb28a",
   "metadata": {},
   "outputs": [
    {
     "data": {
      "text/plain": [
       "1"
      ]
     },
     "execution_count": 12,
     "metadata": {},
     "output_type": "execute_result"
    }
   ],
   "source": [
    "#16. Access the first element of a nested tuple.\n",
    "#Ans:\n",
    "t16 = (1,2,3,(4,5,6),('A','B','C'))\n",
    "t16[0]"
   ]
  },
  {
   "cell_type": "code",
   "execution_count": 13,
   "id": "84c6df1b-5d64-462a-b24d-e2c22ea2457a",
   "metadata": {},
   "outputs": [
    {
     "name": "stdout",
     "output_type": "stream",
     "text": [
      "(1,) <class 'tuple'>\n"
     ]
    }
   ],
   "source": [
    "#17. Create a tuple with a single element.\n",
    "#Ans:\n",
    "t17=(1,)\n",
    "print(t17,type(t17))"
   ]
  },
  {
   "cell_type": "code",
   "execution_count": 15,
   "id": "2b07e2ca-0f25-4305-9152-0edfeca85163",
   "metadata": {},
   "outputs": [
    {
     "name": "stdout",
     "output_type": "stream",
     "text": [
      "Tuple are different\n"
     ]
    }
   ],
   "source": [
    "#18. Compare two tuples.\n",
    "#Ans:\n",
    "t17=(10,20,30)\n",
    "t18=(30,10,20)\n",
    "\n",
    "if t17==t18:\n",
    "    print(\"Tuple are both same\")\n",
    "else:\n",
    "    print(\"Tuple are different\")"
   ]
  },
  {
   "cell_type": "code",
   "execution_count": 20,
   "id": "ff074a6d-1acf-40b4-af4f-962bb3ba2517",
   "metadata": {},
   "outputs": [
    {
     "ename": "NameError",
     "evalue": "name 't19' is not defined",
     "output_type": "error",
     "traceback": [
      "\u001b[0;31m---------------------------------------------------------------------------\u001b[0m",
      "\u001b[0;31mNameError\u001b[0m                                 Traceback (most recent call last)",
      "Cell \u001b[0;32mIn[20], line 5\u001b[0m\n\u001b[1;32m      3\u001b[0m t19\u001b[38;5;241m=\u001b[39m(\u001b[38;5;241m1\u001b[39m,\u001b[38;5;241m2\u001b[39m,\u001b[38;5;241m3\u001b[39m)\n\u001b[1;32m      4\u001b[0m \u001b[38;5;28;01mdel\u001b[39;00m t19\n\u001b[0;32m----> 5\u001b[0m \u001b[43mt19\u001b[49m\n",
      "\u001b[0;31mNameError\u001b[0m: name 't19' is not defined"
     ]
    }
   ],
   "source": [
    "#19. Delete a tuple.\n",
    "#Ans:\n",
    "t19=(1,2,3)\n",
    "del t19\n",
    "t19"
   ]
  },
  {
   "cell_type": "code",
   "execution_count": 22,
   "id": "052149c0-2f31-47de-8cd8-1f255242857e",
   "metadata": {},
   "outputs": [
    {
     "data": {
      "text/plain": [
       "(3, 4, 5, 6)"
      ]
     },
     "execution_count": 22,
     "metadata": {},
     "output_type": "execute_result"
    }
   ],
   "source": [
    "#20. Slice a tuple.\n",
    "#Ans:\n",
    "t20=(1,2,3,4,5,6,7)\n",
    "t20[2:6]"
   ]
  },
  {
   "cell_type": "code",
   "execution_count": 28,
   "id": "08628e3c-2b15-47e1-bb16-9331a02b5506",
   "metadata": {},
   "outputs": [
    {
     "name": "stdout",
     "output_type": "stream",
     "text": [
      "7\n"
     ]
    }
   ],
   "source": [
    "#21. Find the maximum value in a tuple.\n",
    "#Ans:\n",
    "t21=(1,2,3,4,5,6,7)\n",
    "print(max(t21))"
   ]
  },
  {
   "cell_type": "code",
   "execution_count": 29,
   "id": "28cbaa00-8570-48c4-9b33-ada81af0e075",
   "metadata": {},
   "outputs": [
    {
     "name": "stdout",
     "output_type": "stream",
     "text": [
      "1\n"
     ]
    }
   ],
   "source": [
    "#22. Find the minimum value in a tuple.\n",
    "#Ans:\n",
    "t22=(1,2,3,4,5,6,7)\n",
    "print(min(t22))"
   ]
  },
  {
   "cell_type": "code",
   "execution_count": 33,
   "id": "86726f9d-ceb4-47eb-b4af-ae878516c4fe",
   "metadata": {},
   "outputs": [
    {
     "name": "stdout",
     "output_type": "stream",
     "text": [
      "('T', 'h', 'i', 's', ' ', 'i', 's', ' ', '2', '0', 't', 'h', ' ', 'A', 'u', 'g', ' ', 'A', 's', 's', 'i', 'g', 'n', 'm', 'e', 'n', 't')\n"
     ]
    }
   ],
   "source": [
    "#23. Convert a string to a tuple of characters.\n",
    "#Ans:\n",
    "s23=\"This is 20th Aug Assignment\"\n",
    "t23=tuple(s23)\n",
    "print(t23)"
   ]
  },
  {
   "cell_type": "code",
   "execution_count": 34,
   "id": "6551d3b4-b1b3-46a9-bf18-1e444ac67f32",
   "metadata": {},
   "outputs": [
    {
     "name": "stdout",
     "output_type": "stream",
     "text": [
      "('A', 's', 's', 'i', 'g', 'n', 'm', 'e', 'n', 't') <class 'str'>\n"
     ]
    }
   ],
   "source": [
    "#24. Convert a tuple of characters to a string.\n",
    "#Ans:\n",
    "t24=('A', 's', 's', 'i', 'g', 'n', 'm', 'e', 'n', 't')\n",
    "s24=str(t24)\n",
    "print(s24, type(s24))"
   ]
  },
  {
   "cell_type": "code",
   "execution_count": 35,
   "id": "ae538ba6-c3b7-45a0-8ebe-ab632e947aa9",
   "metadata": {},
   "outputs": [
    {
     "name": "stdout",
     "output_type": "stream",
     "text": [
      "('a', (2+6j), 2.7, 8) <class 'tuple'>\n"
     ]
    }
   ],
   "source": [
    "#25. Create a tuple from multiple data types.\n",
    "#Ans:\n",
    "t25=('a',2+6j,2.7,8)\n",
    "print(t25,type(t25))"
   ]
  },
  {
   "cell_type": "code",
   "execution_count": 36,
   "id": "b6b5e7e8-044b-4e35-a415-30be69bc62f7",
   "metadata": {},
   "outputs": [
    {
     "name": "stdout",
     "output_type": "stream",
     "text": [
      "Both tuples are identical\n"
     ]
    }
   ],
   "source": [
    "#26. Check if two tuples are identical.\n",
    "#Ans:\n",
    "t25=('A','S','H')\n",
    "t26=('A','S','H')\n",
    "if t25 == t26:\n",
    "    print(\"Both tuples are identical\")\n",
    "else:\n",
    "    print(\"Both tuples are not identical\")"
   ]
  },
  {
   "cell_type": "code",
   "execution_count": 44,
   "id": "00098250-c1d0-4648-a602-90357df2d195",
   "metadata": {},
   "outputs": [
    {
     "name": "stdout",
     "output_type": "stream",
     "text": [
      "(0, 1, 2, 3, 4, 6, 8, 33, 55, 88) <class 'list'>\n"
     ]
    }
   ],
   "source": [
    "#27. Sort the elements of a tuple.\n",
    "#Ans:\n",
    "t27=(2,8,6,4,1,0,3,33,55,88)\n",
    "t28=sorted(t27)\n",
    "print(tuple(t28),type(t28))"
   ]
  },
  {
   "cell_type": "code",
   "execution_count": 47,
   "id": "bfa58d06-84fd-4a42-bf98-bbe634a1064c",
   "metadata": {},
   "outputs": [
    {
     "name": "stdout",
     "output_type": "stream",
     "text": [
      "('2', '8', '6', '4', '1', '0', '3', '33', '55', '88') <class 'tuple'>\n"
     ]
    }
   ],
   "source": [
    "#28. Convert a tuple of integers to a tuple of strings.\n",
    "#Ans:\n",
    "tuple_of_integers=(2,8,6,4,1,0,3,33,55,88)\n",
    "tuple_of_strings= tuple(str(x) for x in tuple_of_integers) \n",
    "print(tuple_of_strings,type(tuple_of_strings))"
   ]
  },
  {
   "cell_type": "code",
   "execution_count": 49,
   "id": "6a18d1af-7904-4292-9297-302e455e302c",
   "metadata": {},
   "outputs": [
    {
     "name": "stdout",
     "output_type": "stream",
     "text": [
      "(2, 8, 6, 4, 1) <class 'tuple'>\n"
     ]
    }
   ],
   "source": [
    "#29. Convert a tuple of strings to a tuple of integers.\n",
    "#Ans:\n",
    "\n",
    "tuple_of_string=('2','8','6','4','1')\n",
    "tuple_of_integers= tuple(int(x) for x in tuple_of_string) \n",
    "print(tuple_of_integers,type(tuple_of_integers))"
   ]
  },
  {
   "cell_type": "code",
   "execution_count": 50,
   "id": "37b8cf5c-fadb-4376-afd0-3ce1871d0d84",
   "metadata": {},
   "outputs": [
    {
     "name": "stdout",
     "output_type": "stream",
     "text": [
      "(1, 10, 20, 30, 2, 11, 22, 33)\n"
     ]
    }
   ],
   "source": [
    "#30. Merge two tuples.\n",
    "#Ans:\n",
    "t1=(1,10,20,30)\n",
    "t2=(2,11,22,33)\n",
    "t3=t1+t2\n",
    "print(t3)"
   ]
  },
  {
   "cell_type": "code",
   "execution_count": 6,
   "id": "4d6618fd-90f1-46ba-9f37-2b85892b93cc",
   "metadata": {},
   "outputs": [
    {
     "name": "stdout",
     "output_type": "stream",
     "text": [
      "(1, 2, 3, 4, 5, 6, 'A', 'B', 'C')\n"
     ]
    }
   ],
   "source": [
    "#31. Flatten a nested tuple.\n",
    "#Ans:\n",
    "def flatten_tuple(nested_tuple):\n",
    "    flattened_tuple=[]\n",
    "    for item in nested_tuple:\n",
    "        if isinstance(item,tuple):\n",
    "            flattened_tuple.extend(flatten_tuple(item))\n",
    "        else:\n",
    "            flattened_tuple.append(item)\n",
    "    return tuple(flattened_tuple)        \n",
    "        \n",
    "t31 = (1,2,3,(4,5,6),('A','B','C'))\n",
    "flattened_tuple_t31=flatten_tuple(t31)\n",
    "print(flattened_tuple_t31)\n"
   ]
  },
  {
   "cell_type": "code",
   "execution_count": 7,
   "id": "e04745d4-b1ab-4c6f-bded-6d87a944b4b2",
   "metadata": {},
   "outputs": [
    {
     "name": "stdout",
     "output_type": "stream",
     "text": [
      "(2, 3, 5, 7, 11)\n"
     ]
    }
   ],
   "source": [
    "#32. Create a tuple of the first 5 prime numbers.\n",
    "#Ans:\n",
    "def generate_primes(n):\n",
    "    primes = []\n",
    "    num = 2\n",
    "    while len(primes) < n:\n",
    "        is_prime = True\n",
    "        for p in primes:\n",
    "            if num % p == 0:\n",
    "                is_prime = False\n",
    "                break\n",
    "        if is_prime:\n",
    "            primes.append(num)\n",
    "        num += 1\n",
    "    return tuple(primes)\n",
    "\n",
    "first_5_primes = generate_primes(5)\n",
    "print(first_5_primes)\n"
   ]
  },
  {
   "cell_type": "code",
   "execution_count": 9,
   "id": "7f1dab51-225e-43e1-ac7b-5c3b5569617b",
   "metadata": {},
   "outputs": [
    {
     "name": "stdout",
     "output_type": "stream",
     "text": [
      "True\n",
      "False\n"
     ]
    }
   ],
   "source": [
    "#33. Check if a tuple is a palindrome.\n",
    "#Ans:\n",
    "\n",
    "def is_tuple_palindrome(input_tuple):\n",
    "    return input_tuple == input_tuple[::-1]\n",
    "\n",
    "palindrome_tuple = (1, 2, 3, 2, 1)\n",
    "non_palindrome_tuple = (1, 2, 3, 4, 5)\n",
    "\n",
    "print(is_tuple_palindrome(palindrome_tuple))  \n",
    "print(is_tuple_palindrome(non_palindrome_tuple)) \n"
   ]
  },
  {
   "cell_type": "code",
   "execution_count": 15,
   "id": "7cd02631-001e-48d4-ab9e-1e7401e41a53",
   "metadata": {},
   "outputs": [
    {
     "name": "stdout",
     "output_type": "stream",
     "text": [
      "(1, 4, 9, 16, 25)\n"
     ]
    }
   ],
   "source": [
    "#34. Create a tuple of squares of numbers from 1 to 5.\n",
    "#Ans:\n",
    "def square_of_tuple_numbers(n):\n",
    "    squared_tuple=[]\n",
    "    for i in range(1,n):\n",
    "        squared_tuple.append(i**2)\n",
    "    return tuple(squared_tuple)\n",
    "\n",
    "n=6\n",
    "squares_of_numbers =square_of_tuple_numbers(n)\n",
    "print(squares_of_numbers)"
   ]
  },
  {
   "cell_type": "code",
   "execution_count": 12,
   "id": "9b2bf263-b4e1-4ec0-aa1a-a358278f185b",
   "metadata": {},
   "outputs": [
    {
     "name": "stdout",
     "output_type": "stream",
     "text": [
      "(10, 20, 30, 2, 22)\n"
     ]
    }
   ],
   "source": [
    "#35. Filter out all even numbers from a tuple.\n",
    "#Ans:\n",
    "def even_numbers_tuple(t):\n",
    "    even_tuple=tuple(i for i in t if i%2 == 0)\n",
    "    return even_tuple\n",
    "\n",
    "t=(1, 10, 20, 30, 2, 11, 22, 33)\n",
    "even_numb_tuple = (even_numbers_tuple(t))\n",
    "print(even_numb_tuple)"
   ]
  },
  {
   "cell_type": "code",
   "execution_count": 13,
   "id": "2bb620ba-6de5-481f-9cee-2335f34cdace",
   "metadata": {},
   "outputs": [
    {
     "name": "stdout",
     "output_type": "stream",
     "text": [
      "(2, 4, 6)\n"
     ]
    }
   ],
   "source": [
    "#36. Multiply all elements in a tuple by 2.\n",
    "#Ans:\n",
    "def multiply_elements(t,n):\n",
    "    multiplied_elements=tuple(i*2 for i in t)\n",
    "    return multiplied_elements\n",
    "        \n",
    "t35=(1, 2, 3)\n",
    "n=2\n",
    "multi_element=multiply_elements(t35,n)\n",
    "print(multi_element)"
   ]
  },
  {
   "cell_type": "code",
   "execution_count": 14,
   "id": "7fa846e6-46ce-4bdb-873f-f3b7f9ca76d5",
   "metadata": {},
   "outputs": [
    {
     "name": "stdout",
     "output_type": "stream",
     "text": [
      "(3, 7, 1, 3, 7)\n"
     ]
    }
   ],
   "source": [
    "#37. Create a tuple of random numbers.\n",
    "#Ans:\n",
    "import random\n",
    "tuple_random=tuple(random.randint(1,10) for i in range(0,5))\n",
    "\n",
    "print(tuple_random)"
   ]
  },
  {
   "cell_type": "code",
   "execution_count": 16,
   "id": "ba24181b-9778-4266-8eca-89da2c5e9351",
   "metadata": {},
   "outputs": [
    {
     "name": "stdout",
     "output_type": "stream",
     "text": [
      "The tuple is not sorted in ascending order.\n"
     ]
    }
   ],
   "source": [
    "#38. Check if a tuple is sorted.\n",
    "#Ans:\n",
    "def is_sorted_ascending(t):\n",
    "    for i in range(1, len(t)):\n",
    "        if t[i] < t[i - 1]:\n",
    "            return False\n",
    "    return True\n",
    "\n",
    "ascending_tuple =(10,3,5,7,12,4,2,0,13)\n",
    "\n",
    "if is_sorted_ascending(ascending_tuple):\n",
    "    print(\"The tuple is sorted in ascending order.\")\n",
    "else:\n",
    "    print(\"The tuple is not sorted in ascending order.\")   "
   ]
  },
  {
   "cell_type": "code",
   "execution_count": 19,
   "id": "571e1f93-0382-42de-8a03-64ce2519afb3",
   "metadata": {},
   "outputs": [
    {
     "name": "stdout",
     "output_type": "stream",
     "text": [
      "(3, 4, 5, 1, 2)\n"
     ]
    }
   ],
   "source": [
    "#39. Rotate a tuple to the left by `n` positions.\n",
    "#Ans:\n",
    "def rotate_left(t39, n):\n",
    "    n = n % len(t39)\n",
    "    return t39[n:] + t39[:n]\n",
    "\n",
    "tuple39 = (1, 2, 3, 4, 5)\n",
    "n = 2\n",
    "rotated_tuple = rotate_left(tuple39, n)\n",
    "print(rotated_tuple)"
   ]
  },
  {
   "cell_type": "code",
   "execution_count": 24,
   "id": "78f887c1-81b2-45a2-b8f3-1271f672cf41",
   "metadata": {},
   "outputs": [
    {
     "name": "stdout",
     "output_type": "stream",
     "text": [
      "(4, 5, 1, 2, 3)\n"
     ]
    }
   ],
   "source": [
    "#40. Rotate a tuple to the right by `n` positions.\n",
    "#Ans:\n",
    "\n",
    "def rotate_tuple_right(t, n):\n",
    "    if n < 0:\n",
    "        n = len(t) + n \n",
    "\n",
    "    n = n % len(t)  \n",
    "\n",
    "    rotated_tuple = t[-n:] + t[:-n]  \n",
    "\n",
    "    return rotated_tuple\n",
    "\n",
    "\n",
    "original_tuple = (1, 2, 3, 4, 5)\n",
    "n = 2  \n",
    "\n",
    "rotated_tuple = rotate_tuple_right(original_tuple, n)\n",
    "print(rotated_tuple)\n"
   ]
  },
  {
   "cell_type": "code",
   "execution_count": 1,
   "id": "78b6d79c-d08d-4a53-b81b-9184be0d8143",
   "metadata": {},
   "outputs": [
    {
     "name": "stdout",
     "output_type": "stream",
     "text": [
      "(0, 1, 1, 2, 3)\n"
     ]
    }
   ],
   "source": [
    "#41. Create a tuple of the first 5 Fibonacci numbers.\n",
    "#Ans:\n",
    "\n",
    "def generate_fibonacci(n):\n",
    "    fibonacci_numbers = [0, 1]\n",
    "    while len(fibonacci_numbers) < n:\n",
    "        next_number = fibonacci_numbers[-1] + fibonacci_numbers[-2]\n",
    "        fibonacci_numbers.append(next_number)\n",
    "    return tuple(fibonacci_numbers[:n])\n",
    "\n",
    "\n",
    "fibonacci_tuple = generate_fibonacci(5)\n",
    "\n",
    "print(fibonacci_tuple)\n"
   ]
  },
  {
   "cell_type": "code",
   "execution_count": 3,
   "id": "ef7e074d-4bf8-4bc0-bd79-cb2b1d04f079",
   "metadata": {},
   "outputs": [
    {
     "name": "stdin",
     "output_type": "stream",
     "text": [
      "Enter the elements separated by commas: 3,4,5,6\n"
     ]
    },
    {
     "name": "stdout",
     "output_type": "stream",
     "text": [
      "User Tuple: (3, 4, 5, 6)\n"
     ]
    }
   ],
   "source": [
    "#42. Create a tuple from user input.\n",
    "#Ans:\n",
    "user_input=input(\"Enter the elements separated by commas:\")\n",
    "\n",
    "elements=[int(x.strip())for x in user_input.split(',')]\n",
    "user_tuple=tuple(elements)\n",
    "print(\"User Tuple:\",user_tuple)"
   ]
  },
  {
   "cell_type": "code",
   "execution_count": 4,
   "id": "99817d80-3c71-465d-a50e-2856739699e9",
   "metadata": {},
   "outputs": [
    {
     "name": "stdout",
     "output_type": "stream",
     "text": [
      "Original Tuple: (1, 2, 3, 4, 5)\n",
      "Swapped Tuple: (1, 4, 3, 2, 5)\n"
     ]
    }
   ],
   "source": [
    "#43. Swap two elements in a tuple.\n",
    "#Ans:\n",
    "\n",
    "original_tuple = (1, 2, 3, 4, 5)\n",
    "\n",
    "index1 = 1\n",
    "index2 = 3\n",
    "\n",
    "tuple_list = list(original_tuple)\n",
    "\n",
    "tuple_list[index1], tuple_list[index2] = tuple_list[index2], tuple_list[index1]\n",
    "\n",
    "swapped_tuple = tuple(tuple_list)\n",
    "\n",
    "print(\"Original Tuple:\", original_tuple)\n",
    "print(\"Swapped Tuple:\", swapped_tuple)\n"
   ]
  },
  {
   "cell_type": "code",
   "execution_count": 6,
   "id": "5b0d2ae7-e4fe-47f3-adf2-6f3072c3c0c4",
   "metadata": {},
   "outputs": [
    {
     "name": "stdout",
     "output_type": "stream",
     "text": [
      "Original Tuple: (1, 2, 3, 4, 5)\n",
      "Reverse tuple: (5, 4, 3, 2, 1)\n"
     ]
    }
   ],
   "source": [
    "#44. Reverse the elements of a tuple.\n",
    "#Ans:\n",
    "original_tuple = (1, 2, 3, 4, 5)\n",
    "tuple_list = list(original_tuple)\n",
    "Reverse_tuple=tuple(tuple_list[::-1])\n",
    "\n",
    "print(\"Original Tuple:\", original_tuple)\n",
    "print(\"Reverse tuple:\", Reverse_tuple)"
   ]
  },
  {
   "cell_type": "code",
   "execution_count": 6,
   "id": "e3a3b6b9-2c1e-448a-b777-83d32e1b3f6f",
   "metadata": {},
   "outputs": [
    {
     "name": "stdout",
     "output_type": "stream",
     "text": [
      "(1, 2, 4, 8, 16, 32, 64, 128, 256, 512)\n"
     ]
    }
   ],
   "source": [
    "#45. Create a tuple of the first `n` powers of 2.\n",
    "#Ans:\n",
    "n=10\n",
    "\n",
    "power_of_2 = [2**i for i in range(n)]\n",
    "Tuple_powers_of_2 = tuple(power_of_2)\n",
    "\n",
    "print(Tuple_powers_of_2)"
   ]
  },
  {
   "cell_type": "code",
   "execution_count": 10,
   "id": "078251eb-b2de-48a6-a21d-6173b0a4071a",
   "metadata": {},
   "outputs": [
    {
     "name": "stdout",
     "output_type": "stream",
     "text": [
      "Longest string: strawberry\n"
     ]
    }
   ],
   "source": [
    "#46. Find the longest string in a tuple of strings.\n",
    "#Ans:\n",
    "strings_tuple = ('apple', 'banana', 'orange', 'kiwi', 'strawberry')\n",
    "\n",
    "longest_string = max(strings_tuple, key=len)\n",
    "\n",
    "print(\"Longest string:\", longest_string)"
   ]
  },
  {
   "cell_type": "code",
   "execution_count": 11,
   "id": "d14721b0-07f4-4249-a10e-90ff818e5b11",
   "metadata": {},
   "outputs": [
    {
     "name": "stdout",
     "output_type": "stream",
     "text": [
      "Longest string: kiwi\n"
     ]
    }
   ],
   "source": [
    "#47. Find the shortest string in a tuple of strings.\n",
    "#Ans:\n",
    "strings_tuple = ('apple', 'banana', 'orange', 'kiwi', 'strawberry')\n",
    "\n",
    "longest_string = min(strings_tuple, key=len)\n",
    "\n",
    "print(\"Longest string:\", longest_string)"
   ]
  },
  {
   "cell_type": "code",
   "execution_count": 12,
   "id": "01003bee-f6e9-45c8-87ab-5f0fd41a0b99",
   "metadata": {},
   "outputs": [
    {
     "name": "stdout",
     "output_type": "stream",
     "text": [
      "Tuple of the first 7 triangular numbers: (1, 3, 6, 10, 15, 21, 28)\n"
     ]
    }
   ],
   "source": [
    "#48. Create a tuple of the first `n` triangular numbers.\n",
    "#Ans:\n",
    "\n",
    "def triangular_number(n):\n",
    "    return n * (n + 1) // 2\n",
    "\n",
    "def first_n_triangular_numbers(count):\n",
    "    triangular_nums = tuple(triangular_number(i) for i in range(1, count + 1))\n",
    "    return triangular_nums\n",
    "\n",
    "n = 7\n",
    "triangular_nums_tuple = first_n_triangular_numbers(n)\n",
    "\n",
    "print(\"Tuple of the first\", n, \"triangular numbers:\", triangular_nums_tuple)\n"
   ]
  },
  {
   "cell_type": "code",
   "execution_count": 13,
   "id": "03695cf0-55f8-48a9-869c-8efca552c74d",
   "metadata": {},
   "outputs": [
    {
     "name": "stdout",
     "output_type": "stream",
     "text": [
      "tuple2 is a subsequence of tuple1\n"
     ]
    }
   ],
   "source": [
    "#49. Check if a tuple contains another tuple as a subsequence.\n",
    "#Ans:\n",
    "def contains_subsequence(main_tuple, sub_tuple):\n",
    "    main_len = len(main_tuple)\n",
    "    sub_len = len(sub_tuple)\n",
    "    \n",
    "    for i in range(main_len - sub_len + 1):\n",
    "        if main_tuple[i:i + sub_len] == sub_tuple:\n",
    "            return True\n",
    "    \n",
    "    return False\n",
    "\n",
    "tuple1 = (1, 2, 3, 4, 5, 6, 7)\n",
    "tuple2 = (3, 4, 5)\n",
    "\n",
    "\n",
    "result = contains_subsequence(tuple1, tuple2)\n",
    "\n",
    "if result:\n",
    "    print(\"tuple2 is a subsequence of tuple1\")\n",
    "else:\n",
    "    print(\"tuple2 is not a subsequence of tuple1\")\n"
   ]
  },
  {
   "cell_type": "code",
   "execution_count": 14,
   "id": "c997c9a3-de6a-4e22-81d1-972e60254eb8",
   "metadata": {},
   "outputs": [
    {
     "name": "stdout",
     "output_type": "stream",
     "text": [
      "Tuple of alternating 1s and 0s of length 10 : (0, 1, 0, 1, 0, 1, 0, 1, 0, 1)\n"
     ]
    }
   ],
   "source": [
    "#50. Create a tuple of alternating 1s and 0s of length `n`.\n",
    "#Ans:\n",
    "def alternating_ones_zeros(length):\n",
    "    result = tuple((i % 2) for i in range(length))\n",
    "    return result\n",
    "\n",
    "n = 10 \n",
    "alternating_tuple = alternating_ones_zeros(n)\n",
    "\n",
    "print(\"Tuple of alternating 1s and 0s of length\", n, \":\", alternating_tuple)\n"
   ]
  },
  {
   "cell_type": "code",
   "execution_count": null,
   "id": "4402f3d3-e7c2-4c0f-a608-0f7091e08599",
   "metadata": {},
   "outputs": [],
   "source": [
    "#Set Based Practice Problem :"
   ]
  },
  {
   "cell_type": "code",
   "execution_count": 17,
   "id": "6966b964-5069-47d4-baef-791f6fa403c2",
   "metadata": {},
   "outputs": [
    {
     "name": "stdout",
     "output_type": "stream",
     "text": [
      "{1, 2, 3, 4, 5}\n"
     ]
    }
   ],
   "source": [
    "#1. Create a set with integers from 1 to 5.\n",
    "#Ans:\n",
    "my_set = {1, 2, 3, 4, 5}\n",
    "print(my_set)"
   ]
  },
  {
   "cell_type": "code",
   "execution_count": 28,
   "id": "4f4b5e64-4984-4b3b-8373-d15e3a8ed0e0",
   "metadata": {},
   "outputs": [
    {
     "name": "stdout",
     "output_type": "stream",
     "text": [
      "{1, 2, 3, 4, 5, 6}\n"
     ]
    }
   ],
   "source": [
    "#2. Add an element to a set.\n",
    "#Ans:\n",
    "my_set = {1, 2, 3, 4, 5}\n",
    "my_set.add(6)\n",
    "print(my_set)"
   ]
  },
  {
   "cell_type": "code",
   "execution_count": 29,
   "id": "17810aee-41ad-48b0-ba74-d67ff75e6454",
   "metadata": {},
   "outputs": [
    {
     "name": "stdout",
     "output_type": "stream",
     "text": [
      "{1, 2, 3, 5}\n"
     ]
    }
   ],
   "source": [
    "#3. Remove an element from a set.\n",
    "#Ans:\n",
    "my_set = {1, 2, 3, 4, 5}\n",
    "my_set.discard(4)\n",
    "print(my_set)"
   ]
  },
  {
   "cell_type": "code",
   "execution_count": 30,
   "id": "fbbcdbb8-927f-45b0-8304-4df2050b32ca",
   "metadata": {},
   "outputs": [
    {
     "name": "stdout",
     "output_type": "stream",
     "text": [
      "Element is exist in a set\n"
     ]
    }
   ],
   "source": [
    "#4. Check if an element exists in a set.\n",
    "#Ans:\n",
    "my_set = {1, 2, 3, 4, 5}\n",
    "element=4\n",
    "\n",
    "if element in my_set:\n",
    "    print(\"Element is exist in a set\")\n",
    "else:\n",
    "    print(\"Element is not exist in a set\")"
   ]
  },
  {
   "cell_type": "code",
   "execution_count": 32,
   "id": "db9a6df5-14e1-4dd7-bc12-9e18b9c873aa",
   "metadata": {},
   "outputs": [
    {
     "name": "stdout",
     "output_type": "stream",
     "text": [
      "length of my_set is: 5\n"
     ]
    }
   ],
   "source": [
    "#5. Find the length of a set without using the `len()` function.\n",
    "#Ans:\n",
    "my_set = {1, 2, 3, 4, 5}\n",
    "\n",
    "count=0\n",
    "for i in my_set:\n",
    "        count+=1\n",
    "print(\"length of my_set is:\",count)        "
   ]
  },
  {
   "cell_type": "code",
   "execution_count": 33,
   "id": "e3edda7e-fdd0-41c1-8f41-d42c4f8895b0",
   "metadata": {},
   "outputs": [
    {
     "name": "stdout",
     "output_type": "stream",
     "text": [
      "set()\n"
     ]
    }
   ],
   "source": [
    "#6. Clear all elements from a set.\n",
    "#Ans:\n",
    "my_set = {1, 2, 3, 4, 5}\n",
    "my_set.clear()\n",
    "print(my_set)"
   ]
  },
  {
   "cell_type": "code",
   "execution_count": 35,
   "id": "ee129e38-e09b-40dd-9ff8-9363506c26ca",
   "metadata": {},
   "outputs": [
    {
     "name": "stdout",
     "output_type": "stream",
     "text": [
      "Set of even numbers : {2, 4, 6, 8, 10}\n"
     ]
    }
   ],
   "source": [
    "#7. Create a set of even numbers from 1 to 10.\n",
    "#Ans:\n",
    "Even_numbers ={x for x in range(1,11) if x%2 == 0}\n",
    "print(\"Set of even numbers :\",Even_numbers)"
   ]
  },
  {
   "cell_type": "code",
   "execution_count": 37,
   "id": "b56ce17c-142b-450d-8edf-2290e8c942fb",
   "metadata": {},
   "outputs": [
    {
     "name": "stdout",
     "output_type": "stream",
     "text": [
      "Set of even numbers : {1, 3, 5, 7, 9}\n"
     ]
    }
   ],
   "source": [
    "#8. Create a set of odd numbers from 1 to 10.\n",
    "#Ans:\n",
    "Odd_numbers ={x for x in range(1,11) if x%2 != 0}\n",
    "print(\"Set of even numbers :\",Odd_numbers)"
   ]
  },
  {
   "cell_type": "code",
   "execution_count": 40,
   "id": "bdc19a77-267d-4fa7-90e0-acc5c0a5930a",
   "metadata": {},
   "outputs": [
    {
     "name": "stdout",
     "output_type": "stream",
     "text": [
      "{1, 2, 3, 4, 5}\n"
     ]
    }
   ],
   "source": [
    "#9. Find the union of two sets.\n",
    "#Ans:\n",
    "s1={1,2,3,4,5}\n",
    "s2={3,4,5}\n",
    "union_set = s1 | s2\n",
    "print(union_set)"
   ]
  },
  {
   "cell_type": "code",
   "execution_count": 41,
   "id": "3a8581ff-ec9f-492a-9fd8-ca8c197ce131",
   "metadata": {},
   "outputs": [
    {
     "name": "stdout",
     "output_type": "stream",
     "text": [
      "{3, 4, 5}\n"
     ]
    }
   ],
   "source": [
    "#10. Find the intersection of two sets.\n",
    "#Ans:\n",
    "s1={1,2,3,4,5}\n",
    "s2={3,4,5}\n",
    "Intersection_set = s1 & s2\n",
    "print(Intersection_set)"
   ]
  },
  {
   "cell_type": "code",
   "execution_count": 43,
   "id": "6c4e1cd4-b838-47ed-bf11-e9449b2ba1d2",
   "metadata": {},
   "outputs": [
    {
     "name": "stdout",
     "output_type": "stream",
     "text": [
      "s2 is subset of s1\n"
     ]
    }
   ],
   "source": [
    "#12. Check if a set is a subset of another set.\n",
    "#Ans:\n",
    "s1={1,2,3,4,5}\n",
    "s2={3,4,5}\n",
    "\n",
    "is_subset = s2.issubset(s1)\n",
    "\n",
    "if is_subset:\n",
    "    print(\"s2 is subset of s1\")\n",
    "else:\n",
    "    print(\"s2 is not subset of s1\")"
   ]
  },
  {
   "cell_type": "code",
   "execution_count": 44,
   "id": "855e29d0-0341-4f83-9611-bdf3757ace99",
   "metadata": {},
   "outputs": [
    {
     "name": "stdout",
     "output_type": "stream",
     "text": [
      "s1 is superset of s2\n"
     ]
    }
   ],
   "source": [
    "#13. Check if a set is a superset of another set.\n",
    "#Ans:\n",
    "s1={1,2,3,4,5}\n",
    "s2={3,4,5}\n",
    "\n",
    "is_superset = s1.issuperset(s2)\n",
    "\n",
    "if is_superset:\n",
    "    print(\"s1 is superset of s2\")\n",
    "else:\n",
    "    print(\"s1 is not superset of s2\")"
   ]
  },
  {
   "cell_type": "code",
   "execution_count": 49,
   "id": "c0c11ec9-dc75-4d77-b0a2-47694cc7f5a7",
   "metadata": {},
   "outputs": [
    {
     "name": "stdout",
     "output_type": "stream",
     "text": [
      "{1, 2, 3, 4, 5}\n"
     ]
    }
   ],
   "source": [
    "#14. Create a set from a list.\n",
    "#Ans:\n",
    "l=[1,2,3,4,5]\n",
    "my_set =set(l)\n",
    "print(my_set)"
   ]
  },
  {
   "cell_type": "code",
   "execution_count": 50,
   "id": "a0e5223c-8226-4adc-80de-68ab7933f7cd",
   "metadata": {},
   "outputs": [
    {
     "name": "stdout",
     "output_type": "stream",
     "text": [
      "[1, 2, 3, 4, 5]\n"
     ]
    }
   ],
   "source": [
    "#15. Convert a set to a list.\n",
    "#Ans:\n",
    "s1={1,2,3,4,5}\n",
    "my_list = list(s1)\n",
    "print(my_list)"
   ]
  },
  {
   "cell_type": "code",
   "execution_count": 55,
   "id": "c114c682-9ff5-41d6-9c37-24742f908951",
   "metadata": {},
   "outputs": [
    {
     "name": "stdout",
     "output_type": "stream",
     "text": [
      "Set after removing element 1 : {2, 3, 4, 5}\n"
     ]
    }
   ],
   "source": [
    "#16. Remove a random element from a set.\n",
    "#Ans:\n",
    "s1={1,2,3,4,5}\n",
    "removed_element = s1.pop()\n",
    "print(\"Set after removing element\", removed_element, \":\", s1)"
   ]
  },
  {
   "cell_type": "code",
   "execution_count": 56,
   "id": "cd68d208-cebd-49f0-9564-88649fccc493",
   "metadata": {},
   "outputs": [
    {
     "name": "stdout",
     "output_type": "stream",
     "text": [
      "Set after removing element 1 : {2, 3, 4, 5}\n"
     ]
    }
   ],
   "source": [
    "#17. Pop an element from a set.\n",
    "#Ans:\n",
    "s1={1,2,3,4,5}\n",
    "removed_element = s1.pop()\n",
    "print(\"Set after removing element\", removed_element, \":\", s1)"
   ]
  },
  {
   "cell_type": "code",
   "execution_count": 59,
   "id": "2568fc74-6f89-49f6-9f0c-3b4b1e23bdde",
   "metadata": {},
   "outputs": [
    {
     "name": "stdout",
     "output_type": "stream",
     "text": [
      "The sets have no elements common\n"
     ]
    }
   ],
   "source": [
    "#18. Check if two sets have no elements in common.\n",
    "#Ans:\n",
    "s1={1,2,3,4,5}\n",
    "s2={6,7,8,9}\n",
    "\n",
    "no_common_elements = s1.isdisjoint(s2)\n",
    "\n",
    "if no_common_elements:\n",
    "    print(\"The sets have no elements common\")\n",
    "else:\n",
    "    print(\"The sets have elements common\")"
   ]
  },
  {
   "cell_type": "code",
   "execution_count": 60,
   "id": "7b904f5b-29bb-4d39-ba3c-9f9a2ca7a290",
   "metadata": {},
   "outputs": [
    {
     "name": "stdout",
     "output_type": "stream",
     "text": [
      "Symmetric difference between set1 and set2: {1, 2, 5, 6}\n"
     ]
    }
   ],
   "source": [
    "#19. Find the symmetric difference between two sets.\n",
    "#Ans:\n",
    "\n",
    "set1 = {1, 2, 3, 4}\n",
    "set2 = {3, 4, 5, 6}\n",
    "\n",
    "symmetric_diff = set1 ^ set2\n",
    "print(\"Symmetric difference between set1 and set2:\", symmetric_diff)\n"
   ]
  },
  {
   "cell_type": "code",
   "execution_count": 61,
   "id": "4584ee53-c61a-4fe9-81ed-ad77c4a43907",
   "metadata": {},
   "outputs": [
    {
     "name": "stdout",
     "output_type": "stream",
     "text": [
      "Updated set1: {1, 2, 3, 4, 5}\n"
     ]
    }
   ],
   "source": [
    "#20. Update a set with elements from another set.\n",
    "#Ans:\n",
    "\n",
    "set1 = {1, 2, 3}\n",
    "set2 = {3, 4, 5}\n",
    "\n",
    "\n",
    "set1.update(set2)\n",
    "print(\"Updated set1:\", set1)\n",
    "\n"
   ]
  },
  {
   "cell_type": "code",
   "execution_count": 62,
   "id": "75861ec0-0a72-48d2-81fa-fff52bbd274f",
   "metadata": {},
   "outputs": [
    {
     "name": "stdout",
     "output_type": "stream",
     "text": [
      "Set of the first 5 prime numbers: {2, 3, 5, 7, 11}\n"
     ]
    }
   ],
   "source": [
    "#21. Create a set of the first 5 prime numbers.\n",
    "#Ans:\n",
    "\n",
    "def is_prime(num):\n",
    "    if num < 2:\n",
    "        return False\n",
    "    for i in range(2, int(num ** 0.5) + 1):\n",
    "        if num % i == 0:\n",
    "            return False\n",
    "    return True\n",
    "\n",
    "count = 0\n",
    "num = 2\n",
    "prime_set = set()\n",
    "\n",
    "while count < 5:\n",
    "    if is_prime(num):\n",
    "        prime_set.add(num)\n",
    "        count += 1\n",
    "    num += 1\n",
    "\n",
    "print(\"Set of the first 5 prime numbers:\", prime_set)\n"
   ]
  },
  {
   "cell_type": "code",
   "execution_count": 67,
   "id": "52e82aff-d7fe-470a-9889-2cc3016a2151",
   "metadata": {},
   "outputs": [
    {
     "name": "stdout",
     "output_type": "stream",
     "text": [
      "Both sets are identical\n"
     ]
    }
   ],
   "source": [
    "#22. Check if two sets are identical.\n",
    "#Ans:\n",
    "set1 = {1, 2, 3,4}\n",
    "set2 = {3, 2, 1,4}\n",
    "\n",
    "if set2==set1:\n",
    "    print(\"Both sets are identical\")\n",
    "else:\n",
    "    print(\"Both sets are not identical\")"
   ]
  },
  {
   "cell_type": "code",
   "execution_count": 68,
   "id": "1317b196-ac4b-420b-a106-e7566dbaf921",
   "metadata": {},
   "outputs": [
    {
     "name": "stdout",
     "output_type": "stream",
     "text": [
      "Original set: {1, 2, 3, 4, 5}\n",
      "Frozen set: frozenset({1, 2, 3, 4, 5})\n"
     ]
    }
   ],
   "source": [
    "#23. Create a frozen set.\n",
    "#Ans:\n",
    "my_set = {1, 2, 3, 4, 5}\n",
    "frozen_set = frozenset(my_set)\n",
    "\n",
    "print(\"Original set:\", my_set)\n",
    "print(\"Frozen set:\", frozen_set)\n"
   ]
  },
  {
   "cell_type": "code",
   "execution_count": 70,
   "id": "43d4d1c0-7e7b-4959-ba35-dcbe42ca0a52",
   "metadata": {},
   "outputs": [
    {
     "name": "stdout",
     "output_type": "stream",
     "text": [
      "The sets are disjoint means have no elements common.\n"
     ]
    }
   ],
   "source": [
    "#24. Check if a set is disjoint with another set.\n",
    "#Ans:\n",
    "\n",
    "s1={1,2,3,4,5}\n",
    "s2={6,7,8,9}\n",
    "\n",
    "are_disjoint = s1.isdisjoint(s2)\n",
    "\n",
    "if are_disjoint:\n",
    "    print(\"The sets are disjoint means have no elements common.\")\n",
    "else:\n",
    "    print(\"The sets are not disjoint means have elements common.\")"
   ]
  },
  {
   "cell_type": "code",
   "execution_count": 71,
   "id": "4e3a307b-7a56-4e78-bc5b-ffd0a7297352",
   "metadata": {},
   "outputs": [
    {
     "name": "stdout",
     "output_type": "stream",
     "text": [
      "{1, 4, 9, 16, 25}\n"
     ]
    }
   ],
   "source": [
    "#25. Create a set of squares of numbers from 1 to 5.\n",
    "#Ans:\n",
    "Set_of_squares={i**2 for i in range(1,6)}\n",
    "print(Set_of_squares)"
   ]
  },
  {
   "cell_type": "code",
   "execution_count": 73,
   "id": "c8fbef57-2f4a-4e29-85a1-74d51e455602",
   "metadata": {},
   "outputs": [
    {
     "name": "stdout",
     "output_type": "stream",
     "text": [
      "{2, 4, 6, 8, 10, 12}\n"
     ]
    }
   ],
   "source": [
    "#26. Filter out all even numbers from a set.\n",
    "#Ans:\n",
    "s1={1,2,3,4,5,6,7,8,10,12}\n",
    "s2=[]\n",
    "for i in s1:\n",
    "    if i%2==0:\n",
    "        s2.append(i)\n",
    "print(set(s2))        \n",
    "        "
   ]
  },
  {
   "cell_type": "code",
   "execution_count": 78,
   "id": "d3d5d533-38cd-4e59-8791-fc8b1c2db453",
   "metadata": {},
   "outputs": [
    {
     "name": "stdout",
     "output_type": "stream",
     "text": [
      "[2, 4, 6, 8, 10, 12]\n"
     ]
    }
   ],
   "source": [
    "#27. Multiply all elements in a set by 2.\n",
    "#Ans:\n",
    "s1={1,2,3,4,5,6}\n",
    "s2=[]\n",
    "for i in s1:\n",
    "    s2.append(i*2)\n",
    "print(s2)    "
   ]
  },
  {
   "cell_type": "code",
   "execution_count": 3,
   "id": "ba675ac8-fe93-4f94-ab56-422a1155b5c0",
   "metadata": {},
   "outputs": [
    {
     "name": "stdout",
     "output_type": "stream",
     "text": [
      "Random numbers: [22, 16, 27, 7, 99]\n"
     ]
    }
   ],
   "source": [
    "#28. Create a set of random numbers.\n",
    "#Ans:\n",
    "import random\n",
    "\n",
    "random_numbers =[random.randint(1,100) for _ in range (5)]\n",
    "\n",
    "print(\"Random numbers:\",random_numbers)"
   ]
  },
  {
   "cell_type": "code",
   "execution_count": 4,
   "id": "779179fc-2c6b-40bf-a28f-151f0b4a4b38",
   "metadata": {},
   "outputs": [
    {
     "name": "stdout",
     "output_type": "stream",
     "text": [
      "The set is empty\n"
     ]
    }
   ],
   "source": [
    "#29. Check if a set is empty.\n",
    "#Ans:\n",
    "\n",
    "empty_set = set()\n",
    "\n",
    "if len(empty_set) == 0:\n",
    "    print(\"The set is empty\")\n",
    "else:\n",
    "    print(\"The set is not empty\")\n"
   ]
  },
  {
   "cell_type": "code",
   "execution_count": 7,
   "id": "04217d3b-5c28-41f0-86b4-925ce5a77cad",
   "metadata": {},
   "outputs": [
    {
     "name": "stdout",
     "output_type": "stream",
     "text": [
      "Nested frozenset: frozenset({frozenset({'orange', 'kiwi', 'grape'}), frozenset({'watermelon', 'pineapple'}), frozenset({'apple', 'banana'})})\n"
     ]
    }
   ],
   "source": [
    "#30. Create a nested set (hint: use frozenset).\n",
    "#Ans:\n",
    "\n",
    "nested_set = frozenset([frozenset({'apple', 'banana'}),frozenset({'orange', 'grape', 'kiwi'}),\n",
    "                        frozenset({'pineapple', 'watermelon'}),])\n",
    "\n",
    "print(\"Nested frozenset:\", nested_set)\n"
   ]
  },
  {
   "cell_type": "code",
   "execution_count": 8,
   "id": "d4f5824c-9459-4ec7-9913-e041668d9518",
   "metadata": {},
   "outputs": [
    {
     "name": "stdout",
     "output_type": "stream",
     "text": [
      "{1, 2, 3, 4, 6}\n"
     ]
    }
   ],
   "source": [
    "#31. Remove an element from a set using the discard method.\n",
    "#Ans:\n",
    "\n",
    "s1={1,2,3,4,5,6}\n",
    "s1.discard(5)\n",
    "print(s1) "
   ]
  },
  {
   "cell_type": "code",
   "execution_count": 10,
   "id": "7abcbcc2-cfee-49dd-99be-ebec20e471ff",
   "metadata": {},
   "outputs": [
    {
     "name": "stdout",
     "output_type": "stream",
     "text": [
      "Are the sets equal? False\n",
      "Are the sets not equal? True\n",
      "Is set1 a subset of set2? False\n",
      "Is set2 a subset of set1? False\n",
      "Is set1 a proper subset of set2? False\n",
      "Is set2 a proper subset of set1? False\n",
      "Is set1 a superset of set2? False\n",
      "Is set2 a superset of set1? False\n",
      "Is set1 a proper superset of set2? False\n",
      "Is set2 a proper superset of set1? False\n"
     ]
    }
   ],
   "source": [
    "#32. Compare two sets.\n",
    "#Ans:\n",
    "\n",
    "set1 = {1, 2, 3, 4}\n",
    "set2 = {3, 4, 5, 6}\n",
    "\n",
    "print(\"Are the sets equal?\", set1 == set2)\n",
    "\n",
    "print(\"Are the sets not equal?\", set1 != set2)\n",
    "\n",
    "print(\"Is set1 a subset of set2?\", set1 <= set2)\n",
    "\n",
    "print(\"Is set2 a subset of set1?\", set2 <= set1)\n",
    "\n",
    "print(\"Is set1 a proper subset of set2?\", set1 < set2)\n",
    "\n",
    "print(\"Is set2 a proper subset of set1?\", set2 < set1)\n",
    "\n",
    "print(\"Is set1 a superset of set2?\", set1 >= set2)\n",
    "\n",
    "print(\"Is set2 a superset of set1?\", set2 >= set1)\n",
    "\n",
    "print(\"Is set1 a proper superset of set2?\", set1 > set2)\n",
    "\n",
    "print(\"Is set2 a proper superset of set1?\", set2 > set1)"
   ]
  },
  {
   "cell_type": "code",
   "execution_count": 4,
   "id": "a7d16530-7922-428f-b690-ea4f494d9e37",
   "metadata": {},
   "outputs": [
    {
     "name": "stdout",
     "output_type": "stream",
     "text": [
      "{'t', 'h', 'e', 'w', 'y', 'i', 'l', ' ', 'a', 'g', 'n', 'o', 'P', 'r', 'H'} <class 'set'>\n"
     ]
    }
   ],
   "source": [
    "#33. Create a set from a string.\n",
    "#Ans:\n",
    "s =\"Hello all we are learning Python\"\n",
    "my_set = set(s)\n",
    "print(my_set,type(my_set))"
   ]
  },
  {
   "cell_type": "code",
   "execution_count": 8,
   "id": "cf10fc83-366a-4f8d-889a-8209b53b9860",
   "metadata": {},
   "outputs": [
    {
     "name": "stdout",
     "output_type": "stream",
     "text": [
      "{1, 2, 3, 4, 5}\n"
     ]
    }
   ],
   "source": [
    "#34. Convert a set of strings to a set of integers.\n",
    "#Ans:\n",
    "string_set = {\"1\",\"2\",\"3\",\"4\",\"5\"} \n",
    "\n",
    "\n",
    "integer_set = {int(x) for x in string_set}\n",
    "\n",
    "print(integer_set)\n"
   ]
  },
  {
   "cell_type": "code",
   "execution_count": 7,
   "id": "71ab67ac-1b4d-4a7a-893b-e39aeba58852",
   "metadata": {},
   "outputs": [
    {
     "name": "stdout",
     "output_type": "stream",
     "text": [
      "{'3', '2', '5', '1', '4'}\n"
     ]
    }
   ],
   "source": [
    "#35. Convert a set of integers to a set of strings.\n",
    "#Ans:\n",
    "Integer_set = {1,2,3,4,5}\n",
    "\n",
    "string_set ={str(x) for x in Integer_set}\n",
    "print(string_set)"
   ]
  },
  {
   "cell_type": "code",
   "execution_count": 9,
   "id": "57372a92-da00-4a0b-b7dd-b04db0561e36",
   "metadata": {},
   "outputs": [
    {
     "name": "stdout",
     "output_type": "stream",
     "text": [
      "{1, 2, 3, 4}\n"
     ]
    }
   ],
   "source": [
    "#36. Create a set from a tuple.\n",
    "#Ans:\n",
    "t=(1,2,3,4)\n",
    "my_set = set(t)\n",
    "\n",
    "print(my_set)"
   ]
  },
  {
   "cell_type": "code",
   "execution_count": 10,
   "id": "fe971866-e7c5-47be-aac3-be0721fb7f14",
   "metadata": {},
   "outputs": [
    {
     "name": "stdout",
     "output_type": "stream",
     "text": [
      "(1, 2, 3, 4) <class 'tuple'>\n"
     ]
    }
   ],
   "source": [
    "#37. Convert a set to a tuple.\n",
    "#Ans:\n",
    "my_set = {1, 2, 3, 4}\n",
    "t=tuple(my_set)\n",
    "\n",
    "print(t,type(t))"
   ]
  },
  {
   "cell_type": "code",
   "execution_count": 3,
   "id": "acb29033-197f-40bd-97a8-8b607d2a97d6",
   "metadata": {},
   "outputs": [
    {
     "name": "stdout",
     "output_type": "stream",
     "text": [
      "9\n"
     ]
    }
   ],
   "source": [
    "#38. Find the maximum value in a set.\n",
    "#Ans:\n",
    "my_set = {1, 2, 3, 4,9}\n",
    "Max_element=max(my_set)\n",
    "print(Max_element)"
   ]
  },
  {
   "cell_type": "code",
   "execution_count": 4,
   "id": "f87bc90d-40bb-41f2-80a8-98b9b5c0de82",
   "metadata": {},
   "outputs": [
    {
     "name": "stdout",
     "output_type": "stream",
     "text": [
      "1\n"
     ]
    }
   ],
   "source": [
    "#39. Find the minimum value in a set\n",
    "#Ans:\n",
    "my_set = {1, 2, 3, 4,9}\n",
    "Min_element=min(my_set)\n",
    "print(Min_element)"
   ]
  },
  {
   "cell_type": "code",
   "execution_count": 19,
   "id": "67967f3e-b5b2-4d9b-a82a-18af4fbfc7e6",
   "metadata": {},
   "outputs": [
    {
     "name": "stdin",
     "output_type": "stream",
     "text": [
      "Enter elements separated by spaces:  1 2 3 4\n"
     ]
    },
    {
     "name": "stdout",
     "output_type": "stream",
     "text": [
      "The set created from user input: {'1', '4', '2', '3'}\n"
     ]
    }
   ],
   "source": [
    "#40. Create a set from user input.\n",
    "#Ans:\n",
    "\n",
    "input_values = input(\"Enter elements separated by spaces: \")\n",
    "\n",
    "elements = input_values.split()\n",
    "\n",
    "user_set = set(elements)\n",
    "\n",
    "print(\"The set created from user input:\", user_set)\n"
   ]
  },
  {
   "cell_type": "code",
   "execution_count": 22,
   "id": "c0318987-b174-4ccb-9b5e-738388e7902f",
   "metadata": {},
   "outputs": [
    {
     "name": "stdout",
     "output_type": "stream",
     "text": [
      "The intersection of the sets is empty.\n"
     ]
    }
   ],
   "source": [
    "#41. Check if the intersection of two sets is empty.\n",
    "#Ans:\n",
    "\n",
    "set1 = {1, 2, 3, 4}\n",
    "set2 = {5, 6, 7}\n",
    "\n",
    "intersection = set1.intersection(set2)\n",
    "\n",
    "if not intersection:\n",
    "    print(\"The intersection of the sets is empty.\")\n",
    "else:\n",
    "    print(\"The intersection of the sets is not empty:\", intersection)\n"
   ]
  },
  {
   "cell_type": "code",
   "execution_count": 26,
   "id": "9d6ef20c-5e8b-48d0-a242-8f0180f44dc8",
   "metadata": {},
   "outputs": [
    {
     "name": "stdout",
     "output_type": "stream",
     "text": [
      "Set of the first 5 Fibonacci numbers: {0, 1, 2, 3}\n"
     ]
    }
   ],
   "source": [
    "#42. Create a set of the first 5 Fibonacci numbers.\n",
    "#Ans:\n",
    "\n",
    "def generate_fibonacci(n):\n",
    "    fibonacci_set = set()\n",
    "    a, b = 0, 1\n",
    "    for _ in range(n):\n",
    "        fibonacci_set.add(a)\n",
    "        a, b = b, a + b\n",
    "    return fibonacci_set\n",
    "\n",
    "\n",
    "first_5_fibonacci = generate_fibonacci(5)\n",
    "\n",
    "print(\"Set of the first 5 Fibonacci numbers:\", first_5_fibonacci)\n"
   ]
  },
  {
   "cell_type": "code",
   "execution_count": 27,
   "id": "236f146b-4dd8-4867-a5cc-3c895b64705d",
   "metadata": {},
   "outputs": [
    {
     "name": "stdout",
     "output_type": "stream",
     "text": [
      "{1, 2, 3, 4, 5, 6}\n"
     ]
    }
   ],
   "source": [
    "#43. Remove duplicates from a list using sets.\n",
    "#Ans:\n",
    "my_list=[1,2,2,3,4,3,5,6,5,6]\n",
    "my_set=set(my_list)\n",
    "print(my_set)"
   ]
  },
  {
   "cell_type": "code",
   "execution_count": 28,
   "id": "78131121-1d9f-40cd-8756-b2aa85238a46",
   "metadata": {},
   "outputs": [
    {
     "name": "stdout",
     "output_type": "stream",
     "text": [
      "The sets have the same elements, regardless of their count.\n"
     ]
    }
   ],
   "source": [
    "#44. Check if two sets have the same elements, regardless of their count.\n",
    "#Ans:\n",
    "\n",
    "set1 = {1, 2, 3, 4, 5}\n",
    "set2 = {5, 4, 3, 2, 1, 1}\n",
    "\n",
    "if set1.issubset(set2) and set2.issubset(set1):\n",
    "    print(\"The sets have the same elements, regardless of their count.\")\n",
    "else:\n",
    "    print(\"The sets do not have the same elements, regardless of their count.\")\n"
   ]
  },
  {
   "cell_type": "code",
   "execution_count": 29,
   "id": "6fc6a466-b915-40dd-96a1-832c63672fe9",
   "metadata": {},
   "outputs": [
    {
     "name": "stdout",
     "output_type": "stream",
     "text": [
      "Set of the first 5 powers of 2: {1, 2, 4, 8, 16}\n"
     ]
    }
   ],
   "source": [
    "#45. Create a set of the first `n` powers of 2.\n",
    "#Ans:\n",
    "def generate_powers_of_2(n):\n",
    "    powers_of_2_set = {2 ** i for i in range(n)}\n",
    "    return powers_of_2_set\n",
    "\n",
    "n = 5\n",
    "\n",
    "powers_of_2 = generate_powers_of_2(n)\n",
    "\n",
    "print(f\"Set of the first {n} powers of 2:\", powers_of_2)\n"
   ]
  },
  {
   "cell_type": "code",
   "execution_count": 1,
   "id": "5ca6e588-e761-4628-b896-b81044ec537a",
   "metadata": {},
   "outputs": [
    {
     "name": "stdout",
     "output_type": "stream",
     "text": [
      "Common elements: {3, 4, 5}\n"
     ]
    }
   ],
   "source": [
    "#46. Find the common elements between a set and a list.\n",
    "#Ans:\n",
    "\n",
    "my_set = {1, 2, 3, 4, 5}\n",
    "\n",
    "my_list = [3, 4, 5, 6, 7]\n",
    "\n",
    "common_elements = set(my_list).intersection(my_set)\n",
    "\n",
    "print(\"Common elements:\", common_elements)\n"
   ]
  },
  {
   "cell_type": "code",
   "execution_count": 4,
   "id": "9148a339-c661-408c-8c05-1e9b99961a6c",
   "metadata": {},
   "outputs": [
    {
     "name": "stdout",
     "output_type": "stream",
     "text": [
      "{1, 10, 3, 6}\n"
     ]
    }
   ],
   "source": [
    "#47. Create a set of the first `n` triangular numbers.\n",
    "#Ans:\n",
    "def triangular_number(n):\n",
    "    number={i*(i+1)//2 for i in range(1,n+1)}\n",
    "    return number\n",
    "\n",
    "n=4\n",
    "\n",
    "triangular_n_numbers = triangular_number(n)\n",
    "\n",
    "print(triangular_n_numbers)\n"
   ]
  },
  {
   "cell_type": "code",
   "execution_count": 5,
   "id": "365d3134-3fc9-426f-a563-9b5dfb46c2c4",
   "metadata": {},
   "outputs": [
    {
     "name": "stdout",
     "output_type": "stream",
     "text": [
      "Is set1 a subset of set2? False\n",
      "Is set2 a subset of set1? True\n"
     ]
    }
   ],
   "source": [
    "#48. Check if a set contains another set as a subset.\n",
    "#Ans:\n",
    "\n",
    "set1 = {1, 2, 3, 4,5,6,7}\n",
    "set2 = {3, 4, 5}\n",
    "\n",
    "print(\"Is set1 a subset of set2?\", set1 <= set2)\n",
    "\n",
    "print(\"Is set2 a subset of set1?\", set2 <= set1)\n"
   ]
  },
  {
   "cell_type": "code",
   "execution_count": 6,
   "id": "be52a7df-2b3f-4217-91dd-01a56c65b28d",
   "metadata": {},
   "outputs": [
    {
     "name": "stdout",
     "output_type": "stream",
     "text": [
      "Set of alternating 1s and 0s of length 8: {0, 1}\n"
     ]
    }
   ],
   "source": [
    "#49. Create a set of alternating 1s and 0s of length `n`.\n",
    "#Ans:\n",
    "\n",
    "def alternating_ones_zeros(n):\n",
    "    alternating_set = {1 if i % 2 == 0 else 0 for i in range(n)}\n",
    "    return alternating_set\n",
    "\n",
    "n = 8 \n",
    "\n",
    "alternating_sequence = alternating_ones_zeros(n)\n",
    "\n",
    "print(f\"Set of alternating 1s and 0s of length {n}:\", alternating_sequence)\n"
   ]
  },
  {
   "cell_type": "code",
   "execution_count": 8,
   "id": "15c5f09f-e6be-410c-ab3f-730611ed6714",
   "metadata": {},
   "outputs": [
    {
     "name": "stdout",
     "output_type": "stream",
     "text": [
      "Merged set using | operator: {1, 2, 3, 5, 6, 7, 10, 20, 30}\n"
     ]
    }
   ],
   "source": [
    "#50. Merge multiple sets into one.\n",
    "#Ans:\n",
    "set1 = {1, 2, 3}\n",
    "set2 = {5,6,7}\n",
    "set3 ={10,20,30}\n",
    "\n",
    "merged_set = set1 | set2 | set3\n",
    "\n",
    "print(\"Merged set using | operator:\", merged_set)"
   ]
  }
 ],
 "metadata": {
  "kernelspec": {
   "display_name": "Python 3 (ipykernel)",
   "language": "python",
   "name": "python3"
  },
  "language_info": {
   "codemirror_mode": {
    "name": "ipython",
    "version": 3
   },
   "file_extension": ".py",
   "mimetype": "text/x-python",
   "name": "python",
   "nbconvert_exporter": "python",
   "pygments_lexer": "ipython3",
   "version": "3.10.8"
  }
 },
 "nbformat": 4,
 "nbformat_minor": 5
}
